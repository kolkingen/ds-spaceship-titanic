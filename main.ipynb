{
 "cells": [
  {
   "cell_type": "markdown",
   "metadata": {},
   "source": [
    "# Космический корабль Титаник\n",
    "\n",
    "[Spaceship Titanic: predict which passengers are transported to an alternate dimension](https://www.kaggle.com/competitions/spaceship-titanic/)  "
   ]
  },
  {
   "cell_type": "markdown",
   "metadata": {},
   "source": [
    "Задача взята из соревнования на kaggle для начинающих. Представляет собой классическую бинарную классификацию по мотивам известного датасета Titanic.  \n",
    "\n",
    "Суть датасета и задачи заключается в следующем: космический корабль Титаник, двигавшийся к далёким звездным системам, попал в пространственно-временную аномалию, вследствие чего половина пассажиров попали в альтернативную реальность. По данным бортового компьютера **необходимо предсказать, попал ли тот или иной пассажир в эту самую параллельную реальность**, тем самым облегчив спасательную операцию.  "
   ]
  },
  {
   "cell_type": "markdown",
   "metadata": {},
   "source": [
    "Данные представлены двумя файлами. В файле `train.csv` представлена информация о 8693 пассажирах в 14 колонках. В файле `test.csv` представлена информация о 4277 пассажирах с теми же колонками, но без целевой переменной. Собственно эти тестовые данные и нужно классифицировать, отправив на странице соревнования файл `submission.csv` с двумя колонками: `PassengerId` и `Transported`.  \n",
    "\n",
    "**Описание** датасета:  \n",
    "\n",
    "* `PassengerId` - Уникальный идентификатор пассажира, состоящий из двух частей `gggg_pp`, где `gggg` - это номер группы пассажира, а `pp` - номер самого пассажира в группе, люди в одной группе могут быть связаны, например, родством.  \n",
    "* `HomePlanet` - Планета, с которой пассажир отбыл.  \n",
    "* `CryoSleep` - Был ли пассажир в состоянии анабиоза.  \n",
    "* `Cabin` - Номер каюты пассажира, состоит из трёх частей `deck/num/side` - палуба/номер/сторона, где сторона может быть или `P` для левого борта или `S` для правого.  \n",
    "* `Destination` - Планета назначения, куда летит пассажир.  \n",
    "* `Age` - Возраст.  \n",
    "* `VIP` - Заплатил ли пассажир за VIP услуги.  \n",
    "* `RoomService`, `FoodCourt`, `ShoppingMall`, `Spa`, `VRDeck` - Сколько заплатил пассажир за те или иные роскошные удобства.  \n",
    "* `Name` - Имя и фамилия.  \n",
    "* `Transported` - Был ли пассажир отправлен в альтернативное измерение. Это **целевая переменная**.  "
   ]
  },
  {
   "cell_type": "markdown",
   "metadata": {},
   "source": [
    "## Подготовка  "
   ]
  },
  {
   "cell_type": "markdown",
   "metadata": {},
   "source": [
    "### Импорт библиотек  "
   ]
  },
  {
   "cell_type": "code",
   "execution_count": 1,
   "metadata": {},
   "outputs": [],
   "source": [
    "from os.path import join as path_join\n",
    "from typing import NamedTuple\n",
    "\n",
    "import pandas as pd\n",
    "import numpy as np\n",
    "import numpy.typing as npt\n",
    "\n",
    "import seaborn as sns\n",
    "import matplotlib.pyplot as plt\n",
    "\n",
    "from sklearn.pipeline import Pipeline\n",
    "from sklearn.impute import SimpleImputer\n",
    "from sklearn.model_selection import cross_val_score, GridSearchCV\n",
    "from sklearn.compose import ColumnTransformer\n",
    "from sklearn.preprocessing import StandardScaler, OneHotEncoder, FunctionTransformer\n",
    "from sklearn.base import BaseEstimator, TransformerMixin\n",
    "from sklearn.utils.validation import check_is_fitted\n",
    "from sklearn.metrics import accuracy_score, precision_score, recall_score, f1_score, roc_auc_score\n",
    "\n",
    "from sklearn.base import BaseEstimator\n",
    "from sklearn.model_selection import train_test_split\n",
    "from sklearn.neighbors import KNeighborsClassifier\n",
    "from sklearn.linear_model import LogisticRegression\n",
    "from sklearn.svm import SVC\n",
    "from sklearn.ensemble import RandomForestClassifier, GradientBoostingClassifier"
   ]
  },
  {
   "cell_type": "markdown",
   "metadata": {},
   "source": [
    "### Установка констант  "
   ]
  },
  {
   "cell_type": "code",
   "execution_count": 2,
   "metadata": {},
   "outputs": [],
   "source": [
    "TEST_SIZE = 0.2\n",
    "RANDOM_STATE = 42\n",
    "N_FOLDS = 5\n",
    "TARGET = 'Transported'"
   ]
  },
  {
   "cell_type": "markdown",
   "metadata": {},
   "source": [
    "### Загрузка данных  "
   ]
  },
  {
   "cell_type": "code",
   "execution_count": 3,
   "metadata": {},
   "outputs": [
    {
     "name": "stdout",
     "output_type": "stream",
     "text": [
      "Размер тренировочного датасета: (8693, 14)\n",
      "Размер тестового датасета: (4277, 13)\n"
     ]
    },
    {
     "data": {
      "text/html": [
       "<div>\n",
       "<style scoped>\n",
       "    .dataframe tbody tr th:only-of-type {\n",
       "        vertical-align: middle;\n",
       "    }\n",
       "\n",
       "    .dataframe tbody tr th {\n",
       "        vertical-align: top;\n",
       "    }\n",
       "\n",
       "    .dataframe thead th {\n",
       "        text-align: right;\n",
       "    }\n",
       "</style>\n",
       "<table border=\"1\" class=\"dataframe\">\n",
       "  <thead>\n",
       "    <tr style=\"text-align: right;\">\n",
       "      <th></th>\n",
       "      <th>PassengerId</th>\n",
       "      <th>HomePlanet</th>\n",
       "      <th>CryoSleep</th>\n",
       "      <th>Cabin</th>\n",
       "      <th>Destination</th>\n",
       "      <th>Age</th>\n",
       "      <th>VIP</th>\n",
       "      <th>RoomService</th>\n",
       "      <th>FoodCourt</th>\n",
       "      <th>ShoppingMall</th>\n",
       "      <th>Spa</th>\n",
       "      <th>VRDeck</th>\n",
       "      <th>Name</th>\n",
       "      <th>Transported</th>\n",
       "    </tr>\n",
       "  </thead>\n",
       "  <tbody>\n",
       "    <tr>\n",
       "      <th>0</th>\n",
       "      <td>0001_01</td>\n",
       "      <td>Europa</td>\n",
       "      <td>False</td>\n",
       "      <td>B/0/P</td>\n",
       "      <td>TRAPPIST-1e</td>\n",
       "      <td>39.0</td>\n",
       "      <td>False</td>\n",
       "      <td>0.0</td>\n",
       "      <td>0.0</td>\n",
       "      <td>0.0</td>\n",
       "      <td>0.0</td>\n",
       "      <td>0.0</td>\n",
       "      <td>Maham Ofracculy</td>\n",
       "      <td>False</td>\n",
       "    </tr>\n",
       "    <tr>\n",
       "      <th>1</th>\n",
       "      <td>0002_01</td>\n",
       "      <td>Earth</td>\n",
       "      <td>False</td>\n",
       "      <td>F/0/S</td>\n",
       "      <td>TRAPPIST-1e</td>\n",
       "      <td>24.0</td>\n",
       "      <td>False</td>\n",
       "      <td>109.0</td>\n",
       "      <td>9.0</td>\n",
       "      <td>25.0</td>\n",
       "      <td>549.0</td>\n",
       "      <td>44.0</td>\n",
       "      <td>Juanna Vines</td>\n",
       "      <td>True</td>\n",
       "    </tr>\n",
       "    <tr>\n",
       "      <th>2</th>\n",
       "      <td>0003_01</td>\n",
       "      <td>Europa</td>\n",
       "      <td>False</td>\n",
       "      <td>A/0/S</td>\n",
       "      <td>TRAPPIST-1e</td>\n",
       "      <td>58.0</td>\n",
       "      <td>True</td>\n",
       "      <td>43.0</td>\n",
       "      <td>3576.0</td>\n",
       "      <td>0.0</td>\n",
       "      <td>6715.0</td>\n",
       "      <td>49.0</td>\n",
       "      <td>Altark Susent</td>\n",
       "      <td>False</td>\n",
       "    </tr>\n",
       "    <tr>\n",
       "      <th>3</th>\n",
       "      <td>0003_02</td>\n",
       "      <td>Europa</td>\n",
       "      <td>False</td>\n",
       "      <td>A/0/S</td>\n",
       "      <td>TRAPPIST-1e</td>\n",
       "      <td>33.0</td>\n",
       "      <td>False</td>\n",
       "      <td>0.0</td>\n",
       "      <td>1283.0</td>\n",
       "      <td>371.0</td>\n",
       "      <td>3329.0</td>\n",
       "      <td>193.0</td>\n",
       "      <td>Solam Susent</td>\n",
       "      <td>False</td>\n",
       "    </tr>\n",
       "    <tr>\n",
       "      <th>4</th>\n",
       "      <td>0004_01</td>\n",
       "      <td>Earth</td>\n",
       "      <td>False</td>\n",
       "      <td>F/1/S</td>\n",
       "      <td>TRAPPIST-1e</td>\n",
       "      <td>16.0</td>\n",
       "      <td>False</td>\n",
       "      <td>303.0</td>\n",
       "      <td>70.0</td>\n",
       "      <td>151.0</td>\n",
       "      <td>565.0</td>\n",
       "      <td>2.0</td>\n",
       "      <td>Willy Santantines</td>\n",
       "      <td>True</td>\n",
       "    </tr>\n",
       "  </tbody>\n",
       "</table>\n",
       "</div>"
      ],
      "text/plain": [
       "  PassengerId HomePlanet CryoSleep  Cabin  Destination   Age    VIP  \\\n",
       "0     0001_01     Europa     False  B/0/P  TRAPPIST-1e  39.0  False   \n",
       "1     0002_01      Earth     False  F/0/S  TRAPPIST-1e  24.0  False   \n",
       "2     0003_01     Europa     False  A/0/S  TRAPPIST-1e  58.0   True   \n",
       "3     0003_02     Europa     False  A/0/S  TRAPPIST-1e  33.0  False   \n",
       "4     0004_01      Earth     False  F/1/S  TRAPPIST-1e  16.0  False   \n",
       "\n",
       "   RoomService  FoodCourt  ShoppingMall     Spa  VRDeck               Name  \\\n",
       "0          0.0        0.0           0.0     0.0     0.0    Maham Ofracculy   \n",
       "1        109.0        9.0          25.0   549.0    44.0       Juanna Vines   \n",
       "2         43.0     3576.0           0.0  6715.0    49.0      Altark Susent   \n",
       "3          0.0     1283.0         371.0  3329.0   193.0       Solam Susent   \n",
       "4        303.0       70.0         151.0   565.0     2.0  Willy Santantines   \n",
       "\n",
       "   Transported  \n",
       "0        False  \n",
       "1         True  \n",
       "2        False  \n",
       "3        False  \n",
       "4         True  "
      ]
     },
     "execution_count": 3,
     "metadata": {},
     "output_type": "execute_result"
    }
   ],
   "source": [
    "train_dataset = pd.read_csv(path_join('data', 'train.csv'))\n",
    "test_dataset = pd.read_csv(path_join('data', 'test.csv'))\n",
    "\n",
    "print('Размер тренировочного датасета:', train_dataset.shape)\n",
    "print('Размер тестового датасета:', test_dataset.shape)\n",
    "\n",
    "train_dataset.head()"
   ]
  },
  {
   "cell_type": "markdown",
   "metadata": {},
   "source": [
    "## EDA - разведочный анализ данных  \n",
    "\n",
    "Распределение признаков, в первую очередь целевой переменной.  \n",
    "Исследовать возможные выбросы.  \n",
    "Парные графики.  \n",
    "Что если прологарифмировать численные признаки?  "
   ]
  },
  {
   "cell_type": "markdown",
   "metadata": {},
   "source": [
    "### Гипотезы  \n",
    "\n",
    "* Имя и фамилия вряд ли повлияют на окончательный результат.  \n",
    "* В численных колонках есть выбросы.  \n",
    "* Категориальные переменные распределены по разному и где-нибудь есть дисбаланс, который стоит учитывать при разбиении датасета на тренировочную и тестовую выборки.  \n",
    "* Коррелируемых признаков нет.  \n",
    "* Пассажиры, бывшие в анабиозе, в большей степени были транспортированы в другое измерение.  \n",
    "* "
   ]
  },
  {
   "cell_type": "markdown",
   "metadata": {},
   "source": [
    "### Основная информация о датасете и признаках  "
   ]
  },
  {
   "cell_type": "code",
   "execution_count": 4,
   "metadata": {},
   "outputs": [],
   "source": [
    "data = train_dataset.copy()"
   ]
  },
  {
   "cell_type": "code",
   "execution_count": 5,
   "metadata": {},
   "outputs": [
    {
     "name": "stdout",
     "output_type": "stream",
     "text": [
      "<class 'pandas.core.frame.DataFrame'>\n",
      "RangeIndex: 8693 entries, 0 to 8692\n",
      "Data columns (total 14 columns):\n",
      " #   Column        Non-Null Count  Dtype  \n",
      "---  ------        --------------  -----  \n",
      " 0   PassengerId   8693 non-null   object \n",
      " 1   HomePlanet    8492 non-null   object \n",
      " 2   CryoSleep     8476 non-null   object \n",
      " 3   Cabin         8494 non-null   object \n",
      " 4   Destination   8511 non-null   object \n",
      " 5   Age           8514 non-null   float64\n",
      " 6   VIP           8490 non-null   object \n",
      " 7   RoomService   8512 non-null   float64\n",
      " 8   FoodCourt     8510 non-null   float64\n",
      " 9   ShoppingMall  8485 non-null   float64\n",
      " 10  Spa           8510 non-null   float64\n",
      " 11  VRDeck        8505 non-null   float64\n",
      " 12  Name          8493 non-null   object \n",
      " 13  Transported   8693 non-null   bool   \n",
      "dtypes: bool(1), float64(6), object(7)\n",
      "memory usage: 891.5+ KB\n"
     ]
    }
   ],
   "source": [
    "data.info()"
   ]
  },
  {
   "cell_type": "code",
   "execution_count": 6,
   "metadata": {},
   "outputs": [
    {
     "data": {
      "text/html": [
       "<div>\n",
       "<style scoped>\n",
       "    .dataframe tbody tr th:only-of-type {\n",
       "        vertical-align: middle;\n",
       "    }\n",
       "\n",
       "    .dataframe tbody tr th {\n",
       "        vertical-align: top;\n",
       "    }\n",
       "\n",
       "    .dataframe thead th {\n",
       "        text-align: right;\n",
       "    }\n",
       "</style>\n",
       "<table border=\"1\" class=\"dataframe\">\n",
       "  <thead>\n",
       "    <tr style=\"text-align: right;\">\n",
       "      <th></th>\n",
       "      <th>Age</th>\n",
       "      <th>RoomService</th>\n",
       "      <th>FoodCourt</th>\n",
       "      <th>ShoppingMall</th>\n",
       "      <th>Spa</th>\n",
       "      <th>VRDeck</th>\n",
       "    </tr>\n",
       "  </thead>\n",
       "  <tbody>\n",
       "    <tr>\n",
       "      <th>count</th>\n",
       "      <td>8514.000000</td>\n",
       "      <td>8512.000000</td>\n",
       "      <td>8510.000000</td>\n",
       "      <td>8485.000000</td>\n",
       "      <td>8510.000000</td>\n",
       "      <td>8505.000000</td>\n",
       "    </tr>\n",
       "    <tr>\n",
       "      <th>mean</th>\n",
       "      <td>28.827930</td>\n",
       "      <td>224.687617</td>\n",
       "      <td>458.077203</td>\n",
       "      <td>173.729169</td>\n",
       "      <td>311.138778</td>\n",
       "      <td>304.854791</td>\n",
       "    </tr>\n",
       "    <tr>\n",
       "      <th>std</th>\n",
       "      <td>14.489021</td>\n",
       "      <td>666.717663</td>\n",
       "      <td>1611.489240</td>\n",
       "      <td>604.696458</td>\n",
       "      <td>1136.705535</td>\n",
       "      <td>1145.717189</td>\n",
       "    </tr>\n",
       "    <tr>\n",
       "      <th>min</th>\n",
       "      <td>0.000000</td>\n",
       "      <td>0.000000</td>\n",
       "      <td>0.000000</td>\n",
       "      <td>0.000000</td>\n",
       "      <td>0.000000</td>\n",
       "      <td>0.000000</td>\n",
       "    </tr>\n",
       "    <tr>\n",
       "      <th>25%</th>\n",
       "      <td>19.000000</td>\n",
       "      <td>0.000000</td>\n",
       "      <td>0.000000</td>\n",
       "      <td>0.000000</td>\n",
       "      <td>0.000000</td>\n",
       "      <td>0.000000</td>\n",
       "    </tr>\n",
       "    <tr>\n",
       "      <th>50%</th>\n",
       "      <td>27.000000</td>\n",
       "      <td>0.000000</td>\n",
       "      <td>0.000000</td>\n",
       "      <td>0.000000</td>\n",
       "      <td>0.000000</td>\n",
       "      <td>0.000000</td>\n",
       "    </tr>\n",
       "    <tr>\n",
       "      <th>75%</th>\n",
       "      <td>38.000000</td>\n",
       "      <td>47.000000</td>\n",
       "      <td>76.000000</td>\n",
       "      <td>27.000000</td>\n",
       "      <td>59.000000</td>\n",
       "      <td>46.000000</td>\n",
       "    </tr>\n",
       "    <tr>\n",
       "      <th>max</th>\n",
       "      <td>79.000000</td>\n",
       "      <td>14327.000000</td>\n",
       "      <td>29813.000000</td>\n",
       "      <td>23492.000000</td>\n",
       "      <td>22408.000000</td>\n",
       "      <td>24133.000000</td>\n",
       "    </tr>\n",
       "  </tbody>\n",
       "</table>\n",
       "</div>"
      ],
      "text/plain": [
       "               Age   RoomService     FoodCourt  ShoppingMall           Spa  \\\n",
       "count  8514.000000   8512.000000   8510.000000   8485.000000   8510.000000   \n",
       "mean     28.827930    224.687617    458.077203    173.729169    311.138778   \n",
       "std      14.489021    666.717663   1611.489240    604.696458   1136.705535   \n",
       "min       0.000000      0.000000      0.000000      0.000000      0.000000   \n",
       "25%      19.000000      0.000000      0.000000      0.000000      0.000000   \n",
       "50%      27.000000      0.000000      0.000000      0.000000      0.000000   \n",
       "75%      38.000000     47.000000     76.000000     27.000000     59.000000   \n",
       "max      79.000000  14327.000000  29813.000000  23492.000000  22408.000000   \n",
       "\n",
       "             VRDeck  \n",
       "count   8505.000000  \n",
       "mean     304.854791  \n",
       "std     1145.717189  \n",
       "min        0.000000  \n",
       "25%        0.000000  \n",
       "50%        0.000000  \n",
       "75%       46.000000  \n",
       "max    24133.000000  "
      ]
     },
     "execution_count": 6,
     "metadata": {},
     "output_type": "execute_result"
    }
   ],
   "source": [
    "data.describe()"
   ]
  },
  {
   "cell_type": "code",
   "execution_count": 7,
   "metadata": {},
   "outputs": [
    {
     "data": {
      "text/html": [
       "<div>\n",
       "<style scoped>\n",
       "    .dataframe tbody tr th:only-of-type {\n",
       "        vertical-align: middle;\n",
       "    }\n",
       "\n",
       "    .dataframe tbody tr th {\n",
       "        vertical-align: top;\n",
       "    }\n",
       "\n",
       "    .dataframe thead th {\n",
       "        text-align: right;\n",
       "    }\n",
       "</style>\n",
       "<table border=\"1\" class=\"dataframe\">\n",
       "  <thead>\n",
       "    <tr style=\"text-align: right;\">\n",
       "      <th></th>\n",
       "      <th>PassengerId</th>\n",
       "      <th>HomePlanet</th>\n",
       "      <th>CryoSleep</th>\n",
       "      <th>Cabin</th>\n",
       "      <th>Destination</th>\n",
       "      <th>VIP</th>\n",
       "      <th>Name</th>\n",
       "      <th>Transported</th>\n",
       "    </tr>\n",
       "  </thead>\n",
       "  <tbody>\n",
       "    <tr>\n",
       "      <th>count</th>\n",
       "      <td>8693</td>\n",
       "      <td>8492</td>\n",
       "      <td>8476</td>\n",
       "      <td>8494</td>\n",
       "      <td>8511</td>\n",
       "      <td>8490</td>\n",
       "      <td>8493</td>\n",
       "      <td>8693</td>\n",
       "    </tr>\n",
       "    <tr>\n",
       "      <th>unique</th>\n",
       "      <td>8693</td>\n",
       "      <td>3</td>\n",
       "      <td>2</td>\n",
       "      <td>6560</td>\n",
       "      <td>3</td>\n",
       "      <td>2</td>\n",
       "      <td>8473</td>\n",
       "      <td>2</td>\n",
       "    </tr>\n",
       "    <tr>\n",
       "      <th>top</th>\n",
       "      <td>0001_01</td>\n",
       "      <td>Earth</td>\n",
       "      <td>False</td>\n",
       "      <td>G/734/S</td>\n",
       "      <td>TRAPPIST-1e</td>\n",
       "      <td>False</td>\n",
       "      <td>Gollux Reedall</td>\n",
       "      <td>True</td>\n",
       "    </tr>\n",
       "    <tr>\n",
       "      <th>freq</th>\n",
       "      <td>1</td>\n",
       "      <td>4602</td>\n",
       "      <td>5439</td>\n",
       "      <td>8</td>\n",
       "      <td>5915</td>\n",
       "      <td>8291</td>\n",
       "      <td>2</td>\n",
       "      <td>4378</td>\n",
       "    </tr>\n",
       "  </tbody>\n",
       "</table>\n",
       "</div>"
      ],
      "text/plain": [
       "       PassengerId HomePlanet CryoSleep    Cabin  Destination    VIP  \\\n",
       "count         8693       8492      8476     8494         8511   8490   \n",
       "unique        8693          3         2     6560            3      2   \n",
       "top        0001_01      Earth     False  G/734/S  TRAPPIST-1e  False   \n",
       "freq             1       4602      5439        8         5915   8291   \n",
       "\n",
       "                  Name Transported  \n",
       "count             8493        8693  \n",
       "unique            8473           2  \n",
       "top     Gollux Reedall        True  \n",
       "freq                 2        4378  "
      ]
     },
     "execution_count": 7,
     "metadata": {},
     "output_type": "execute_result"
    }
   ],
   "source": [
    "data.describe(include=['object', 'bool'])"
   ]
  },
  {
   "cell_type": "markdown",
   "metadata": {},
   "source": [
    "### Целевая переменная  \n",
    "\n",
    "Целевая переменная `Transported` распределена равномерно.  "
   ]
  },
  {
   "cell_type": "code",
   "execution_count": 8,
   "metadata": {},
   "outputs": [
    {
     "data": {
      "image/png": "[encoded data removed]",
      "text/plain": [
       "<Figure size 576x432 with 1 Axes>"
      ]
     },
     "metadata": {
      "needs_background": "light"
     },
     "output_type": "display_data"
    }
   ],
   "source": [
    "plt.figure(figsize=(8,6))\n",
    "sns.countplot(x='Transported', data=data)\n",
    "plt.show()"
   ]
  },
  {
   "cell_type": "markdown",
   "metadata": {},
   "source": [
    "### Более подробно  "
   ]
  },
  {
   "cell_type": "markdown",
   "metadata": {},
   "source": [
    "`PassengerId`: данные в этой колонке составлены из двух чисел: номер группы и номер самого пассажира. Что если их разделить на `PassengerGroup` и `PassengerNumber`?  "
   ]
  },
  {
   "cell_type": "code",
   "execution_count": 9,
   "metadata": {},
   "outputs": [
    {
     "data": {
      "text/html": [
       "<div>\n",
       "<style scoped>\n",
       "    .dataframe tbody tr th:only-of-type {\n",
       "        vertical-align: middle;\n",
       "    }\n",
       "\n",
       "    .dataframe tbody tr th {\n",
       "        vertical-align: top;\n",
       "    }\n",
       "\n",
       "    .dataframe thead th {\n",
       "        text-align: right;\n",
       "    }\n",
       "</style>\n",
       "<table border=\"1\" class=\"dataframe\">\n",
       "  <thead>\n",
       "    <tr style=\"text-align: right;\">\n",
       "      <th></th>\n",
       "      <th>PassengerGroup</th>\n",
       "      <th>PassengerNumber</th>\n",
       "    </tr>\n",
       "  </thead>\n",
       "  <tbody>\n",
       "    <tr>\n",
       "      <th>count</th>\n",
       "      <td>8693.000000</td>\n",
       "      <td>8693.000000</td>\n",
       "    </tr>\n",
       "    <tr>\n",
       "      <th>mean</th>\n",
       "      <td>4633.389624</td>\n",
       "      <td>1.517773</td>\n",
       "    </tr>\n",
       "    <tr>\n",
       "      <th>std</th>\n",
       "      <td>2671.028856</td>\n",
       "      <td>1.054241</td>\n",
       "    </tr>\n",
       "    <tr>\n",
       "      <th>min</th>\n",
       "      <td>1.000000</td>\n",
       "      <td>1.000000</td>\n",
       "    </tr>\n",
       "    <tr>\n",
       "      <th>25%</th>\n",
       "      <td>2319.000000</td>\n",
       "      <td>1.000000</td>\n",
       "    </tr>\n",
       "    <tr>\n",
       "      <th>50%</th>\n",
       "      <td>4630.000000</td>\n",
       "      <td>1.000000</td>\n",
       "    </tr>\n",
       "    <tr>\n",
       "      <th>75%</th>\n",
       "      <td>6883.000000</td>\n",
       "      <td>2.000000</td>\n",
       "    </tr>\n",
       "    <tr>\n",
       "      <th>max</th>\n",
       "      <td>9280.000000</td>\n",
       "      <td>8.000000</td>\n",
       "    </tr>\n",
       "  </tbody>\n",
       "</table>\n",
       "</div>"
      ],
      "text/plain": [
       "       PassengerGroup  PassengerNumber\n",
       "count     8693.000000      8693.000000\n",
       "mean      4633.389624         1.517773\n",
       "std       2671.028856         1.054241\n",
       "min          1.000000         1.000000\n",
       "25%       2319.000000         1.000000\n",
       "50%       4630.000000         1.000000\n",
       "75%       6883.000000         2.000000\n",
       "max       9280.000000         8.000000"
      ]
     },
     "execution_count": 9,
     "metadata": {},
     "output_type": "execute_result"
    }
   ],
   "source": [
    "data[['PassengerGroup', 'PassengerNumber']] = data['PassengerId'].str.split('_', expand=True)\n",
    "\n",
    "data[['PassengerGroup', 'PassengerNumber']].astype(float).describe()"
   ]
  },
  {
   "cell_type": "markdown",
   "metadata": {},
   "source": [
    "`Name`: стоит ли как-то использовать имена? Уникальных значений имен и фамилий слишком много и маловероятно, что они будут полезны. Создать из них новые признаки сложно. От имён просто избавимся.  "
   ]
  },
  {
   "cell_type": "code",
   "execution_count": 10,
   "metadata": {},
   "outputs": [
    {
     "data": {
      "text/html": [
       "<div>\n",
       "<style scoped>\n",
       "    .dataframe tbody tr th:only-of-type {\n",
       "        vertical-align: middle;\n",
       "    }\n",
       "\n",
       "    .dataframe tbody tr th {\n",
       "        vertical-align: top;\n",
       "    }\n",
       "\n",
       "    .dataframe thead th {\n",
       "        text-align: right;\n",
       "    }\n",
       "</style>\n",
       "<table border=\"1\" class=\"dataframe\">\n",
       "  <thead>\n",
       "    <tr style=\"text-align: right;\">\n",
       "      <th></th>\n",
       "      <th>FirstName</th>\n",
       "      <th>LastName</th>\n",
       "    </tr>\n",
       "  </thead>\n",
       "  <tbody>\n",
       "    <tr>\n",
       "      <th>count</th>\n",
       "      <td>8493</td>\n",
       "      <td>8493</td>\n",
       "    </tr>\n",
       "    <tr>\n",
       "      <th>unique</th>\n",
       "      <td>2706</td>\n",
       "      <td>2217</td>\n",
       "    </tr>\n",
       "    <tr>\n",
       "      <th>top</th>\n",
       "      <td>Idace</td>\n",
       "      <td>Casonston</td>\n",
       "    </tr>\n",
       "    <tr>\n",
       "      <th>freq</th>\n",
       "      <td>13</td>\n",
       "      <td>18</td>\n",
       "    </tr>\n",
       "  </tbody>\n",
       "</table>\n",
       "</div>"
      ],
      "text/plain": [
       "       FirstName   LastName\n",
       "count       8493       8493\n",
       "unique      2706       2217\n",
       "top        Idace  Casonston\n",
       "freq          13         18"
      ]
     },
     "execution_count": 10,
     "metadata": {},
     "output_type": "execute_result"
    }
   ],
   "source": [
    "data['FirstName'] = data['Name'].apply(lambda x: None if pd.isna(x) else x.split()[0])\n",
    "data['LastName'] = data['Name'].apply(lambda x: None if pd.isna(x) else x.split()[1])\n",
    "\n",
    "data[['FirstName', 'LastName']].describe()"
   ]
  },
  {
   "cell_type": "markdown",
   "metadata": {},
   "source": [
    "`Cabin`: если разделить данные в колонке, можно получить вполне полезные признаки.  \n",
    "Пропуски в `CabinDeck` и `CabinSide` можно заполнить самым частым значением, а пропуски в `CabinNumber` неудобно заполнить ни средним, ни самым частым значением поэтому заполним его новым значением - тем, что больше макисмального на 1.  "
   ]
  },
  {
   "cell_type": "code",
   "execution_count": 11,
   "metadata": {},
   "outputs": [
    {
     "name": "stdout",
     "output_type": "stream",
     "text": [
      "Максимальное значение в CabinNumber: 1894\n"
     ]
    },
    {
     "data": {
      "text/html": [
       "<div>\n",
       "<style scoped>\n",
       "    .dataframe tbody tr th:only-of-type {\n",
       "        vertical-align: middle;\n",
       "    }\n",
       "\n",
       "    .dataframe tbody tr th {\n",
       "        vertical-align: top;\n",
       "    }\n",
       "\n",
       "    .dataframe thead th {\n",
       "        text-align: right;\n",
       "    }\n",
       "</style>\n",
       "<table border=\"1\" class=\"dataframe\">\n",
       "  <thead>\n",
       "    <tr style=\"text-align: right;\">\n",
       "      <th></th>\n",
       "      <th>CabinDeck</th>\n",
       "      <th>CabinNumber</th>\n",
       "      <th>CabinSide</th>\n",
       "    </tr>\n",
       "  </thead>\n",
       "  <tbody>\n",
       "    <tr>\n",
       "      <th>count</th>\n",
       "      <td>8494</td>\n",
       "      <td>8494</td>\n",
       "      <td>8494</td>\n",
       "    </tr>\n",
       "    <tr>\n",
       "      <th>unique</th>\n",
       "      <td>8</td>\n",
       "      <td>1817</td>\n",
       "      <td>2</td>\n",
       "    </tr>\n",
       "    <tr>\n",
       "      <th>top</th>\n",
       "      <td>F</td>\n",
       "      <td>82</td>\n",
       "      <td>S</td>\n",
       "    </tr>\n",
       "    <tr>\n",
       "      <th>freq</th>\n",
       "      <td>2794</td>\n",
       "      <td>28</td>\n",
       "      <td>4288</td>\n",
       "    </tr>\n",
       "  </tbody>\n",
       "</table>\n",
       "</div>"
      ],
      "text/plain": [
       "       CabinDeck CabinNumber CabinSide\n",
       "count       8494        8494      8494\n",
       "unique         8        1817         2\n",
       "top            F          82         S\n",
       "freq        2794          28      4288"
      ]
     },
     "execution_count": 11,
     "metadata": {},
     "output_type": "execute_result"
    }
   ],
   "source": [
    "data['CabinDeck'] = data['Cabin'].apply(lambda x: None if pd.isna(x) else x.split('/')[0])\n",
    "data['CabinNumber'] = data['Cabin'].apply(lambda x: None if pd.isna(x) else x.split('/')[1])\n",
    "data['CabinSide'] = data['Cabin'].apply(lambda x: None if pd.isna(x) else x.split('/')[2])\n",
    "\n",
    "max_num = data['CabinNumber'].dropna().astype(int).max()\n",
    "print('Максимальное значение в CabinNumber:', max_num)\n",
    "data[['CabinDeck', 'CabinNumber', 'CabinSide']].describe()"
   ]
  },
  {
   "cell_type": "markdown",
   "metadata": {},
   "source": [
    "`RoomService`, `FoodCourt`, `ShoppingMall`, `Spa`, `VRDeck`: может оказаться полезным признак всех трат `TotalExpenses`. Этот новый признак показывает, что половина пассажиров так или иначе тратят деньги. Больше всего денег тратится на еду, а меньше всего на спа."
   ]
  },
  {
   "cell_type": "code",
   "execution_count": 12,
   "metadata": {},
   "outputs": [
    {
     "data": {
      "text/html": [
       "<div>\n",
       "<style scoped>\n",
       "    .dataframe tbody tr th:only-of-type {\n",
       "        vertical-align: middle;\n",
       "    }\n",
       "\n",
       "    .dataframe tbody tr th {\n",
       "        vertical-align: top;\n",
       "    }\n",
       "\n",
       "    .dataframe thead th {\n",
       "        text-align: right;\n",
       "    }\n",
       "</style>\n",
       "<table border=\"1\" class=\"dataframe\">\n",
       "  <thead>\n",
       "    <tr style=\"text-align: right;\">\n",
       "      <th></th>\n",
       "      <th>RoomService</th>\n",
       "      <th>FoodCourt</th>\n",
       "      <th>ShoppingMall</th>\n",
       "      <th>Spa</th>\n",
       "      <th>VRDeck</th>\n",
       "      <th>TotalExpenses</th>\n",
       "    </tr>\n",
       "  </thead>\n",
       "  <tbody>\n",
       "    <tr>\n",
       "      <th>count</th>\n",
       "      <td>8512.000000</td>\n",
       "      <td>8510.000000</td>\n",
       "      <td>8485.000000</td>\n",
       "      <td>8510.000000</td>\n",
       "      <td>8505.000000</td>\n",
       "      <td>8693.000000</td>\n",
       "    </tr>\n",
       "    <tr>\n",
       "      <th>mean</th>\n",
       "      <td>224.687617</td>\n",
       "      <td>458.077203</td>\n",
       "      <td>173.729169</td>\n",
       "      <td>311.138778</td>\n",
       "      <td>304.854791</td>\n",
       "      <td>1440.866329</td>\n",
       "    </tr>\n",
       "    <tr>\n",
       "      <th>std</th>\n",
       "      <td>666.717663</td>\n",
       "      <td>1611.489240</td>\n",
       "      <td>604.696458</td>\n",
       "      <td>1136.705535</td>\n",
       "      <td>1145.717189</td>\n",
       "      <td>2803.045694</td>\n",
       "    </tr>\n",
       "    <tr>\n",
       "      <th>min</th>\n",
       "      <td>0.000000</td>\n",
       "      <td>0.000000</td>\n",
       "      <td>0.000000</td>\n",
       "      <td>0.000000</td>\n",
       "      <td>0.000000</td>\n",
       "      <td>0.000000</td>\n",
       "    </tr>\n",
       "    <tr>\n",
       "      <th>25%</th>\n",
       "      <td>0.000000</td>\n",
       "      <td>0.000000</td>\n",
       "      <td>0.000000</td>\n",
       "      <td>0.000000</td>\n",
       "      <td>0.000000</td>\n",
       "      <td>0.000000</td>\n",
       "    </tr>\n",
       "    <tr>\n",
       "      <th>50%</th>\n",
       "      <td>0.000000</td>\n",
       "      <td>0.000000</td>\n",
       "      <td>0.000000</td>\n",
       "      <td>0.000000</td>\n",
       "      <td>0.000000</td>\n",
       "      <td>716.000000</td>\n",
       "    </tr>\n",
       "    <tr>\n",
       "      <th>75%</th>\n",
       "      <td>47.000000</td>\n",
       "      <td>76.000000</td>\n",
       "      <td>27.000000</td>\n",
       "      <td>59.000000</td>\n",
       "      <td>46.000000</td>\n",
       "      <td>1441.000000</td>\n",
       "    </tr>\n",
       "    <tr>\n",
       "      <th>max</th>\n",
       "      <td>14327.000000</td>\n",
       "      <td>29813.000000</td>\n",
       "      <td>23492.000000</td>\n",
       "      <td>22408.000000</td>\n",
       "      <td>24133.000000</td>\n",
       "      <td>35987.000000</td>\n",
       "    </tr>\n",
       "  </tbody>\n",
       "</table>\n",
       "</div>"
      ],
      "text/plain": [
       "        RoomService     FoodCourt  ShoppingMall           Spa        VRDeck  \\\n",
       "count   8512.000000   8510.000000   8485.000000   8510.000000   8505.000000   \n",
       "mean     224.687617    458.077203    173.729169    311.138778    304.854791   \n",
       "std      666.717663   1611.489240    604.696458   1136.705535   1145.717189   \n",
       "min        0.000000      0.000000      0.000000      0.000000      0.000000   \n",
       "25%        0.000000      0.000000      0.000000      0.000000      0.000000   \n",
       "50%        0.000000      0.000000      0.000000      0.000000      0.000000   \n",
       "75%       47.000000     76.000000     27.000000     59.000000     46.000000   \n",
       "max    14327.000000  29813.000000  23492.000000  22408.000000  24133.000000   \n",
       "\n",
       "       TotalExpenses  \n",
       "count    8693.000000  \n",
       "mean     1440.866329  \n",
       "std      2803.045694  \n",
       "min         0.000000  \n",
       "25%         0.000000  \n",
       "50%       716.000000  \n",
       "75%      1441.000000  \n",
       "max     35987.000000  "
      ]
     },
     "execution_count": 12,
     "metadata": {},
     "output_type": "execute_result"
    }
   ],
   "source": [
    "\n",
    "columns_for_summing = ['RoomService', 'FoodCourt', 'ShoppingMall', 'Spa', 'VRDeck']\n",
    "data['TotalExpenses'] = data[columns_for_summing].fillna(0.0).sum(axis=1)   \n",
    "\n",
    "data[columns_for_summing + ['TotalExpenses']].describe()"
   ]
  },
  {
   "cell_type": "code",
   "execution_count": 13,
   "metadata": {},
   "outputs": [
    {
     "data": {
      "image/png": "[encoded data removed]",
      "text/plain": [
       "<Figure size 466.625x360 with 1 Axes>"
      ]
     },
     "metadata": {
      "needs_background": "light"
     },
     "output_type": "display_data"
    }
   ],
   "source": [
    "sns.displot(\n",
    "    data[columns_for_summing + ['TotalExpenses']],\n",
    "    kind=\"kde\",\n",
    "    common_norm=True\n",
    ")\n",
    "\n",
    "plt.title('Expenses by type', fontsize=20)\n",
    "plt.xlabel('Expenses', fontsize=14)\n",
    "plt.ylabel('Dentsity', fontsize=14)\n",
    "\n",
    "plt.xticks(fontsize=14)\n",
    "plt.yticks(fontsize=14)\n",
    "\n",
    "plt.xlim(-1000, 5000)\n",
    "plt.show()"
   ]
  },
  {
   "cell_type": "markdown",
   "metadata": {},
   "source": [
    "### Корреляции  \n",
    "\n",
    "Из корреляций может быть интересно:  \n",
    "* между `CryoSleep` и `Transported`;  \n",
    "* между `CabinNumber` и `PassengerGroup` - и в целом зависимость понятна: пассажиры одной группы часто родственники, которые и занимают общую кабину.  "
   ]
  },
  {
   "cell_type": "code",
   "execution_count": 14,
   "metadata": {},
   "outputs": [
    {
     "data": {
      "image/png": "[encoded data removed]",
      "text/plain": [
       "<Figure size 864x576 with 2 Axes>"
      ]
     },
     "metadata": {
      "needs_background": "light"
     },
     "output_type": "display_data"
    }
   ],
   "source": [
    "for column in data.drop(columns=['PassengerId']).columns:\n",
    "    data[column] = data[column].astype(float, errors='ignore')\n",
    "\n",
    "plt.figure(figsize=(12, 8))\n",
    "plt.title('Корреляция признаков в датасете')\n",
    "sns.heatmap(data.corr(), annot=True, fmt='0.1f')\n",
    "plt.show()"
   ]
  },
  {
   "cell_type": "markdown",
   "metadata": {},
   "source": [
    "Корреляция между `CryoSleep` и `Transported`:  \n",
    "* большинство пассажиров в анабиозе были транспортированы в другое измерение;  \n",
    "* те, кто не был в анабиозе, по большей части спаслись.  "
   ]
  },
  {
   "cell_type": "code",
   "execution_count": 15,
   "metadata": {},
   "outputs": [
    {
     "data": {
      "image/png": "[encoded data removed]",
      "text/plain": [
       "<Figure size 864x576 with 1 Axes>"
      ]
     },
     "metadata": {
      "needs_background": "light"
     },
     "output_type": "display_data"
    }
   ],
   "source": [
    "cryosleep_transported = (\n",
    "    data.groupby(['CryoSleep'])['Transported']\n",
    "    .value_counts(normalize=True)\n",
    "    .rename('Percentage')\n",
    "    .mul(100)\n",
    "    .reset_index()\n",
    "    .sort_values('CryoSleep'))\n",
    "\n",
    "plt.figure(figsize=(12, 8))\n",
    "plt.title('Процент транспортированных пассажиров в зависимости от анабиоза')\n",
    "sns.barplot(x='CryoSleep', y='Percentage', hue='Transported', data=cryosleep_transported)\n",
    "plt.xlabel('В анабиозе?')\n",
    "plt.ylabel('Процент')\n",
    "plt.show()"
   ]
  },
  {
   "cell_type": "markdown",
   "metadata": {},
   "source": [
    "### Выбросы  \n",
    "\n",
    "Взлянем на возможные выбросы в численных признаках. "
   ]
  },
  {
   "cell_type": "code",
   "execution_count": 16,
   "metadata": {},
   "outputs": [
    {
     "data": {
      "text/plain": [
       "1       4.691348\n",
       "2       3.761200\n",
       "4       5.713733\n",
       "6       3.737670\n",
       "11      3.663562\n",
       "          ...   \n",
       "8675    6.937314\n",
       "8682    5.480639\n",
       "8683    4.454347\n",
       "8686    0.000000\n",
       "8692    4.836282\n",
       "Name: RoomService, Length: 2935, dtype: float64"
      ]
     },
     "execution_count": 16,
     "metadata": {},
     "output_type": "execute_result"
    }
   ],
   "source": [
    "np.log(data[data['RoomService'] > 0]['RoomService'])"
   ]
  },
  {
   "cell_type": "code",
   "execution_count": 17,
   "metadata": {},
   "outputs": [
    {
     "data": {
      "image/png": "[encoded data removed]",
      "text/plain": [
       "<Figure size 1512x576 with 7 Axes>"
      ]
     },
     "metadata": {
      "needs_background": "light"
     },
     "output_type": "display_data"
    }
   ],
   "source": [
    "numerical_columns = ['Age', 'RoomService', 'FoodCourt', 'ShoppingMall', 'Spa', 'VRDeck', 'TotalExpenses']\n",
    "\n",
    "fig, axes = plt.subplots(nrows=1, ncols=len(numerical_columns), figsize=(3*len(numerical_columns), 8))\n",
    "for i, column in enumerate(numerical_columns):\n",
    "    to_show = data[[column]]\n",
    "    sns.boxplot(data=to_show, ax=axes[i])\n",
    "    axes[i].set_title(column)"
   ]
  },
  {
   "cell_type": "markdown",
   "metadata": {},
   "source": [
    "## Data Preparation  \n",
    "\n",
    "Преобразование данных будет проводиться через pipeline библиотеки sklearn.  "
   ]
  },
  {
   "cell_type": "code",
   "execution_count": 4,
   "metadata": {},
   "outputs": [],
   "source": [
    "class DataFrameColumnTransformer(ColumnTransformer): \n",
    "    \"\"\"Кастомный трансформер колонок, который возвращает pd.DataFrame, а не массив numpy.\"\"\"\n",
    "\n",
    "    def get_names(self) -> list[str]:\n",
    "        names = self.get_feature_names_out()\n",
    "        names = [n.split('__')[-1] for n in names]\n",
    "        return names\n",
    "\n",
    "    def transform(self, X: pd.DataFrame) -> pd.DataFrame:\n",
    "        result = super().transform(X)\n",
    "        names = self.get_names()\n",
    "        for i, name in enumerate(names):\n",
    "            X[name] = result[:, i]\n",
    "            X[name] = X[name].astype(float, errors='ignore')\n",
    "        return X\n",
    "    \n",
    "    def fit_transform(self, X: pd.DataFrame, y: pd.Series | None = None) -> pd.DataFrame:\n",
    "        result = super().fit_transform(X, y)\n",
    "        names = self.get_names()\n",
    "        for i, name in enumerate(names):\n",
    "            X[name] = result[:, i]\n",
    "            X[name] = X[name].astype(float, errors='ignore')\n",
    "        return X"
   ]
  },
  {
   "cell_type": "markdown",
   "metadata": {},
   "source": [
    "### Feature Engineering - создание признаков  \n",
    "\n",
    "Информация в некоторых колонках содержит больше одного признака. Их стоит разделить.  \n",
    "Колонку `PassengerId` можно разделить на группу `PassengerGroup` и номер пассажира `PassengerNumber`.  \n",
    "Колонку `Cabin` можно разделить на палубу `CabinDeck`, номер `CabinNumber` и сторону `CabinSide`.  \n",
    "\n",
    "Можно создать признак `AgeCategory`, показывающий возрастную группу пассажира.  \n",
    "Также было бы неплохо создать признак, содержащий общую сумму трат `TotalExpenses`.  \n",
    "\n",
    "Созданные признаки привести к нужным типам.  "
   ]
  },
  {
   "cell_type": "code",
   "execution_count": 5,
   "metadata": {},
   "outputs": [],
   "source": [
    "def create_features(data: pd.DataFrame) -> pd.DataFrame:\n",
    "    \"\"\"Создаёт новые признаки: \n",
    "    * `PassengerGroup` и `PassengerNumber` из `PassengerId`; \n",
    "    * `CabinDeck`, `CabinNumber` и `CabinSide` из `Cabin`; \n",
    "    * `TotalExpenses` как сумма `RoomService`, `FoodCourt`, `ShoppingMall`, `Spa` и `VRDeck`.\n",
    "    \"\"\"\n",
    "\n",
    "    data = data.copy()\n",
    "\n",
    "    # Splitting columns PassengerId and Cabin\n",
    "    data[['PassengerGroup', 'PassengerNumber']] = data['PassengerId'].str.split('_', expand=True)\n",
    "    data[['CabinDeck', 'CabinNumber', 'CabinSide']] = data['Cabin'].str.split('/', expand=True)\n",
    "\n",
    "    # Creating AgeCategory feature \n",
    "    def get_age_category(age: float) -> str: \n",
    "        if age < 0: \n",
    "            return float('nan')\n",
    "        elif age <= 25: \n",
    "            return 'young'\n",
    "        elif age <= 50: \n",
    "            return 'average'\n",
    "        else: \n",
    "            return 'old'\n",
    "    data['AgeCategory'] = data['Age'].apply(get_age_category)\n",
    "\n",
    "    # Creating TotalExpenses feature\n",
    "    columns_for_summing = ['RoomService', 'FoodCourt', 'ShoppingMall', 'Spa', 'VRDeck']\n",
    "    data['TotalExpenses'] = data[columns_for_summing].fillna(0.0).sum(axis=1)    \n",
    "\n",
    "    # Set new features as float type\n",
    "    columns_to_float = ['PassengerGroup', 'PassengerNumber', 'CabinNumber']\n",
    "    data[columns_to_float] = data[columns_to_float].astype(float)\n",
    "\n",
    "    return data\n",
    "\n",
    "features_creator = FunctionTransformer(create_features)"
   ]
  },
  {
   "cell_type": "markdown",
   "metadata": {},
   "source": [
    "### Заполнение пропусков  \n",
    "\n",
    "Во всех колонках, кроме id пассажира и целевой переменной, есть пропуски.  \n",
    "Пропуски в колонке `Age` можно заполнить средним значением.  \n",
    "Пропуски в колонках `HomePlanet`, `CryoSleep`, `Destination`, `VIP`, `CabinDeck`, `CabinSide`, `AgeCategory` можно заполнить самым частым значением.  \n",
    "Пропуски в колонках `RoomService`, `FoodCourt`, `ShoppingMall`, `Spa`, `VRDeck` можно заполнить 0, как самым частым значением, потому что роскошные удобства может себе позволить лишь небольшой круг людей.  \n",
    "Пропуски в колонке `CabinNumber` можно заполнить новым значением, большим максимального на 1.  "
   ]
  },
  {
   "cell_type": "code",
   "execution_count": 6,
   "metadata": {},
   "outputs": [],
   "source": [
    "class MaxMoreImputer(BaseEstimator, TransformerMixin):\n",
    "    \"\"\"Класс для заполнения пропущенных значений. \n",
    "    Пустые значения заполняются максимальным значением колонки, увеличенных на значение `step`.\n",
    "    \"\"\"\n",
    "\n",
    "    def __init__(self, step: float = 1.0) -> None:\n",
    "        super().__init__()\n",
    "        self.step = step\n",
    "        self._features_names = None\n",
    "        self._impute_value = None\n",
    "    \n",
    "    def fit(self, X: npt.ArrayLike, y: npt.ArrayLike | None = None) -> 'MaxMoreImputer':\n",
    "        self._impute_value = X.astype(float).max()\n",
    "        self._features_names = X.columns\n",
    "        return self\n",
    "    \n",
    "    def transform(self, X: npt.ArrayLike, y: npt.ArrayLike | None = None) -> np.ndarray:\n",
    "        check_is_fitted(self, '_impute_value')\n",
    "        return X.fillna(self._impute_value + self.step)\n",
    "    \n",
    "    def get_feature_names_out(self, input_features: npt.ArrayLike | None = None) -> np.ndarray:\n",
    "        check_is_fitted(self, '_features_names')\n",
    "        return self._features_names"
   ]
  },
  {
   "cell_type": "code",
   "execution_count": 7,
   "metadata": {},
   "outputs": [],
   "source": [
    "missings_filler = DataFrameColumnTransformer(transformers=[\n",
    "    ('age_imputer', SimpleImputer(strategy='mean'), ['Age']), \n",
    "    ('mode_imputer', SimpleImputer(strategy='most_frequent'), \n",
    "     ['HomePlanet', 'CryoSleep', 'Destination', 'VIP', 'CabinDeck', 'CabinSide', 'AgeCategory']), \n",
    "    ('zero_imputer', SimpleImputer(strategy='constant', fill_value=0.0), \n",
    "     ['RoomService', 'FoodCourt', 'ShoppingMall', 'Spa', 'VRDeck']), \n",
    "    ('cabin_number_imputer', MaxMoreImputer(), ['CabinNumber']), \n",
    "], remainder='passthrough')"
   ]
  },
  {
   "cell_type": "markdown",
   "metadata": {},
   "source": [
    "### Обработка выбросов  \n",
    "\n",
    "Обработка выбросов в колонке `Age`: те значения, что меньше нижней границы интерквартального размаха, приравнять к этой нижней границе, те, что выше - к верхней границе.  \n",
    "Искать выбросы в колонках `RoomService`, `FoodCourt`, `ShoppingMall`, `Spa`, `VRDeck`, `TotalExpenses` без учёта нулевого значения.  \n",
    "\n",
    "Может быть произвести логарифмирование?"
   ]
  },
  {
   "cell_type": "code",
   "execution_count": 8,
   "metadata": {},
   "outputs": [],
   "source": [
    "# Пока ничего, нужно провести анализ сперва"
   ]
  },
  {
   "cell_type": "markdown",
   "metadata": {},
   "source": [
    "### Нормализация численных переменных  \n",
    "\n",
    "Стандартизируем числовые признаки с помощью StandardScaler.  "
   ]
  },
  {
   "cell_type": "code",
   "execution_count": 9,
   "metadata": {},
   "outputs": [],
   "source": [
    "# используется column transformer, чтобы разделить \n",
    "# шаги нормализации и кодирования категориальных признаков\n",
    "\n",
    "normalizer = DataFrameColumnTransformer(transformers=[\n",
    "    ('scaler', StandardScaler(), \n",
    "     ['Age', 'RoomService', 'FoodCourt', 'ShoppingMall', 'Spa', 'VRDeck', \n",
    "      'PassengerGroup', 'PassengerNumber', 'CabinNumber', 'TotalExpenses']),  \n",
    "], remainder='passthrough')"
   ]
  },
  {
   "cell_type": "markdown",
   "metadata": {},
   "source": [
    "### Кодирование категориальных переменных  \n",
    "\n"
   ]
  },
  {
   "cell_type": "code",
   "execution_count": 10,
   "metadata": {},
   "outputs": [],
   "source": [
    "# используется column transformer, чтобы разделить \n",
    "# шаги нормализации и кодирования категориальных признаков\n",
    "\n",
    "onehot_encoder = DataFrameColumnTransformer(transformers=[\n",
    "    ('encoder', OneHotEncoder(sparse=False, handle_unknown='ignore', drop='if_binary'), \n",
    "     ['HomePlanet', 'CryoSleep', 'Destination', 'VIP', 'CabinDeck', 'CabinSide', 'AgeCategory']), \n",
    "], remainder='passthrough')"
   ]
  },
  {
   "cell_type": "markdown",
   "metadata": {},
   "source": [
    "### Удаление ненужных колонок  \n",
    "\n"
   ]
  },
  {
   "cell_type": "code",
   "execution_count": 11,
   "metadata": {},
   "outputs": [],
   "source": [
    "def remove_columns(data: pd.DataFrame) -> pd.DataFrame:\n",
    "    \"\"\"Удаляет ненужные колонки: \n",
    "    `PassengerId`, `HomePlanet`, `CryoSleep`, `Cabin`, `Destination`, `VIP`, `Name`, `CabinDeck`, `CabinSide`, `AgeCategory`.\n",
    "    \"\"\"\n",
    "\n",
    "    data = data.copy()\n",
    "\n",
    "    columns_to_drop = ['PassengerId', 'Cabin', 'Name', 'HomePlanet', 'Destination', \n",
    "                       'CabinDeck', 'CabinSide', 'AgeCategory', 'CryoSleep', 'VIP']  \n",
    "    data = data.drop(columns=columns_to_drop)\n",
    "\n",
    "    return data\n",
    "\n",
    "columns_remover = FunctionTransformer(remove_columns)"
   ]
  },
  {
   "cell_type": "markdown",
   "metadata": {},
   "source": [
    "### Соберём пайплайн  \n",
    "\n",
    "Соберём все запланированные шаги подготовки данных в единый пайплайн.  "
   ]
  },
  {
   "cell_type": "code",
   "execution_count": 12,
   "metadata": {},
   "outputs": [],
   "source": [
    "x = train_dataset.copy() \n",
    "y = x.pop('Transported')"
   ]
  },
  {
   "cell_type": "code",
   "execution_count": 13,
   "metadata": {},
   "outputs": [],
   "source": [
    "preprocessor = Pipeline(steps=[\n",
    "    ('feature_engineering', features_creator), \n",
    "    ('filling_missing', missings_filler), \n",
    "    # ('outliers_handling', ), \n",
    "    ('normalization', normalizer), \n",
    "    ('onehot_encoding', onehot_encoder), \n",
    "    ('feature_selection', columns_remover), \n",
    "])"
   ]
  },
  {
   "cell_type": "markdown",
   "metadata": {},
   "source": [
    "## Modeling  \n",
    "\n",
    "Не забыть выбор метрики или даже нескольких.  \n",
    "\n",
    "Модели на выбор: \n",
    "    * логистическая регрессия;  \n",
    "    * метод опорных векторов;  \n",
    "    * случайный лес;  \n",
    "    * градиентный бустинг;  \n",
    "    * метод k-ближайших соседей;\n",
    "    * catboost?\n"
   ]
  },
  {
   "cell_type": "markdown",
   "metadata": {},
   "source": [
    "### Разделение данных  "
   ]
  },
  {
   "cell_type": "code",
   "execution_count": 14,
   "metadata": {},
   "outputs": [
    {
     "name": "stdout",
     "output_type": "stream",
     "text": [
      "train shapes: (6954, 13) and (6954,)\n",
      "valid shapes: (1739, 13) and (1739,)\n"
     ]
    }
   ],
   "source": [
    "x = train_dataset.copy()\n",
    "y = x.pop(TARGET)\n",
    "\n",
    "x_train, x_valid, y_train, y_valid = train_test_split(x, y, test_size=TEST_SIZE, random_state=RANDOM_STATE)\n",
    "print(f'train shapes: {x_train.shape} and {y_train.shape}')\n",
    "print(f'valid shapes: {x_valid.shape} and {y_valid.shape}')"
   ]
  },
  {
   "cell_type": "markdown",
   "metadata": {},
   "source": [
    "### Выбор метрик  \n",
    "\n",
    "Так как это классификация и целевая переменная распределена равномерно, будем использовать в качестве основной метрики точность - `accuracy_score`. Но также взглянем и на другие метрики: precision, recall, f1, roc-auc."
   ]
  },
  {
   "cell_type": "code",
   "execution_count": 15,
   "metadata": {},
   "outputs": [],
   "source": [
    "class Metrics(NamedTuple):\n",
    "    \"\"\"Класс для сохранения и передачи информации о метриках.\"\"\"\n",
    "    train_accuracy: float\n",
    "    test_accuracy: float\n",
    "    train_precision: float\n",
    "    test_precision: float\n",
    "    train_recall: float\n",
    "    test_recall: float\n",
    "    train_f1: float\n",
    "    test_f1: float\n",
    "    train_roc_auc: float\n",
    "    test_roc_auc: float"
   ]
  },
  {
   "cell_type": "code",
   "execution_count": 16,
   "metadata": {},
   "outputs": [],
   "source": [
    "def get_metrics(model: BaseEstimator, x_train: npt.ArrayLike, x_valid: npt.ArrayLike, \n",
    "                y_train: npt.ArrayLike, y_valid: npt.ArrayLike) -> Metrics:\n",
    "    \"\"\"Рассчитывает и возвращает метрик `accuracy`, `precision`, `recall`, `f1`, `roc_auc`.\"\"\"\n",
    "\n",
    "    train_y_true, test_y_true = y_train, y_valid\n",
    "    train_y_pred = model.predict(x_train)\n",
    "    test_y_pred = model.predict(x_valid)\n",
    "\n",
    "    return Metrics(\n",
    "        train_accuracy=accuracy_score(train_y_true, train_y_pred), \n",
    "        test_accuracy=accuracy_score(test_y_true, test_y_pred), \n",
    "        train_precision=precision_score(train_y_true, train_y_pred), \n",
    "        test_precision=precision_score(test_y_true, test_y_pred), \n",
    "        train_recall=recall_score(train_y_true, train_y_pred), \n",
    "        test_recall=recall_score(test_y_true, test_y_pred), \n",
    "        train_f1=f1_score(train_y_true, train_y_pred), \n",
    "        test_f1=f1_score(test_y_true, test_y_pred), \n",
    "        train_roc_auc=roc_auc_score(train_y_true, train_y_pred), \n",
    "        test_roc_auc=roc_auc_score(test_y_true, test_y_pred), \n",
    "    )"
   ]
  },
  {
   "cell_type": "code",
   "execution_count": 17,
   "metadata": {},
   "outputs": [],
   "source": [
    "metrics = pd.DataFrame(index=Metrics._fields)"
   ]
  },
  {
   "cell_type": "markdown",
   "metadata": {},
   "source": [
    "### Baseline  \n",
    "\n",
    "В качестве бейзлайн модели возъмём простую модель k-ближайших соседей.  "
   ]
  },
  {
   "cell_type": "code",
   "execution_count": 18,
   "metadata": {},
   "outputs": [
    {
     "data": {
      "text/html": [
       "<div>\n",
       "<style scoped>\n",
       "    .dataframe tbody tr th:only-of-type {\n",
       "        vertical-align: middle;\n",
       "    }\n",
       "\n",
       "    .dataframe tbody tr th {\n",
       "        vertical-align: top;\n",
       "    }\n",
       "\n",
       "    .dataframe thead th {\n",
       "        text-align: right;\n",
       "    }\n",
       "</style>\n",
       "<table border=\"1\" class=\"dataframe\">\n",
       "  <thead>\n",
       "    <tr style=\"text-align: right;\">\n",
       "      <th></th>\n",
       "      <th>baseline_knn</th>\n",
       "    </tr>\n",
       "  </thead>\n",
       "  <tbody>\n",
       "    <tr>\n",
       "      <th>train_accuracy</th>\n",
       "      <td>0.849727</td>\n",
       "    </tr>\n",
       "    <tr>\n",
       "      <th>test_accuracy</th>\n",
       "      <td>0.757907</td>\n",
       "    </tr>\n",
       "    <tr>\n",
       "      <th>train_precision</th>\n",
       "      <td>0.858604</td>\n",
       "    </tr>\n",
       "    <tr>\n",
       "      <th>test_precision</th>\n",
       "      <td>0.756453</td>\n",
       "    </tr>\n",
       "    <tr>\n",
       "      <th>train_recall</th>\n",
       "      <td>0.839714</td>\n",
       "    </tr>\n",
       "    <tr>\n",
       "      <th>test_recall</th>\n",
       "      <td>0.767654</td>\n",
       "    </tr>\n",
       "    <tr>\n",
       "      <th>train_f1</th>\n",
       "      <td>0.849054</td>\n",
       "    </tr>\n",
       "    <tr>\n",
       "      <th>test_f1</th>\n",
       "      <td>0.762012</td>\n",
       "    </tr>\n",
       "    <tr>\n",
       "      <th>train_roc_auc</th>\n",
       "      <td>0.849793</td>\n",
       "    </tr>\n",
       "    <tr>\n",
       "      <th>test_roc_auc</th>\n",
       "      <td>0.757811</td>\n",
       "    </tr>\n",
       "  </tbody>\n",
       "</table>\n",
       "</div>"
      ],
      "text/plain": [
       "                 baseline_knn\n",
       "train_accuracy       0.849727\n",
       "test_accuracy        0.757907\n",
       "train_precision      0.858604\n",
       "test_precision       0.756453\n",
       "train_recall         0.839714\n",
       "test_recall          0.767654\n",
       "train_f1             0.849054\n",
       "test_f1              0.762012\n",
       "train_roc_auc        0.849793\n",
       "test_roc_auc         0.757811"
      ]
     },
     "execution_count": 18,
     "metadata": {},
     "output_type": "execute_result"
    }
   ],
   "source": [
    "baseline_model = Pipeline(steps=[\n",
    "    ('preprocessor', preprocessor), \n",
    "    ('model', KNeighborsClassifier()), \n",
    "])\n",
    "\n",
    "baseline_model.fit(x_train, y_train)\n",
    "metrics['baseline_knn'] = get_metrics(baseline_model, x_train, x_valid, y_train, y_valid)\n",
    "\n",
    "metrics"
   ]
  },
  {
   "cell_type": "markdown",
   "metadata": {},
   "source": [
    "### Обучение нескольких моделей  \n",
    "\n",
    "Обучим несколько моделей с параметрами по умолчанию, выберем лучшую из них и уже её будем оптимизировать далее.  "
   ]
  },
  {
   "cell_type": "code",
   "execution_count": 19,
   "metadata": {},
   "outputs": [],
   "source": [
    "models = [\n",
    "    RandomForestClassifier(random_state=RANDOM_STATE), \n",
    "    GradientBoostingClassifier(random_state=RANDOM_STATE), \n",
    "    LogisticRegression(solver='liblinear'), \n",
    "    SVC(random_state=RANDOM_STATE)\n",
    "]\n",
    "\n",
    "best_score = 0.0\n",
    "best_model = None"
   ]
  },
  {
   "cell_type": "code",
   "execution_count": 20,
   "metadata": {},
   "outputs": [
    {
     "name": "stdout",
     "output_type": "stream",
     "text": [
      "model: RandomForestClassifier, acc_mean: 0.7676, acc_std: 0.0381.\n",
      "model: GradientBoostingClassifier, acc_mean: 0.7062, acc_std: 0.0903.\n",
      "model: LogisticRegression, acc_mean: 0.7852, acc_std: 0.0063.\n",
      "model: SVC, acc_mean: 0.7876, acc_std: 0.0273.\n"
     ]
    }
   ],
   "source": [
    "for model in models:\n",
    "    pipe = Pipeline(steps=[('preprocessor', preprocessor), ('classifier', model)])\n",
    "    score = cross_val_score(pipe, x, y, cv=N_FOLDS, scoring='accuracy')\n",
    "    if score.mean() > best_score:\n",
    "        best_score = score.mean()\n",
    "        best_model = pipe\n",
    "    print(f'model: {type(model).__name__}, acc_mean: {score.mean():0.4f}, acc_std: {score.std():0.4f}.')"
   ]
  },
  {
   "cell_type": "code",
   "execution_count": 21,
   "metadata": {},
   "outputs": [
    {
     "name": "stdout",
     "output_type": "stream",
     "text": [
      "Лучшая модель c точностью 0.7876: SVC\n"
     ]
    }
   ],
   "source": [
    "print(f'Лучшая модель c точностью {best_score:0.4f}:', type(best_model['classifier']).__name__)"
   ]
  },
  {
   "cell_type": "markdown",
   "metadata": {},
   "source": [
    "### Оптимизация гиперпараметров модели SVC\n",
    "\n",
    "Лучшей моделью оказывается метод опорных векторов - Support Vector Classification. Сохраним результаты модели до оптимизации.  "
   ]
  },
  {
   "cell_type": "code",
   "execution_count": 22,
   "metadata": {},
   "outputs": [
    {
     "data": {
      "text/html": [
       "<style>#sk-container-id-1 {color: black;background-color: white;}#sk-container-id-1 pre{padding: 0;}#sk-container-id-1 div.sk-toggleable {background-color: white;}#sk-container-id-1 label.sk-toggleable__label {cursor: pointer;display: block;width: 100%;margin-bottom: 0;padding: 0.3em;box-sizing: border-box;text-align: center;}#sk-container-id-1 label.sk-toggleable__label-arrow:before {content: \"▸\";float: left;margin-right: 0.25em;color: #696969;}#sk-container-id-1 label.sk-toggleable__label-arrow:hover:before {color: black;}#sk-container-id-1 div.sk-estimator:hover label.sk-toggleable__label-arrow:before {color: black;}#sk-container-id-1 div.sk-toggleable__content {max-height: 0;max-width: 0;overflow: hidden;text-align: left;background-color: #f0f8ff;}#sk-container-id-1 div.sk-toggleable__content pre {margin: 0.2em;color: black;border-radius: 0.25em;background-color: #f0f8ff;}#sk-container-id-1 input.sk-toggleable__control:checked~div.sk-toggleable__content {max-height: 200px;max-width: 100%;overflow: auto;}#sk-container-id-1 input.sk-toggleable__control:checked~label.sk-toggleable__label-arrow:before {content: \"▾\";}#sk-container-id-1 div.sk-estimator input.sk-toggleable__control:checked~label.sk-toggleable__label {background-color: #d4ebff;}#sk-container-id-1 div.sk-label input.sk-toggleable__control:checked~label.sk-toggleable__label {background-color: #d4ebff;}#sk-container-id-1 input.sk-hidden--visually {border: 0;clip: rect(1px 1px 1px 1px);clip: rect(1px, 1px, 1px, 1px);height: 1px;margin: -1px;overflow: hidden;padding: 0;position: absolute;width: 1px;}#sk-container-id-1 div.sk-estimator {font-family: monospace;background-color: #f0f8ff;border: 1px dotted black;border-radius: 0.25em;box-sizing: border-box;margin-bottom: 0.5em;}#sk-container-id-1 div.sk-estimator:hover {background-color: #d4ebff;}#sk-container-id-1 div.sk-parallel-item::after {content: \"\";width: 100%;border-bottom: 1px solid gray;flex-grow: 1;}#sk-container-id-1 div.sk-label:hover label.sk-toggleable__label {background-color: #d4ebff;}#sk-container-id-1 div.sk-serial::before {content: \"\";position: absolute;border-left: 1px solid gray;box-sizing: border-box;top: 0;bottom: 0;left: 50%;z-index: 0;}#sk-container-id-1 div.sk-serial {display: flex;flex-direction: column;align-items: center;background-color: white;padding-right: 0.2em;padding-left: 0.2em;position: relative;}#sk-container-id-1 div.sk-item {position: relative;z-index: 1;}#sk-container-id-1 div.sk-parallel {display: flex;align-items: stretch;justify-content: center;background-color: white;position: relative;}#sk-container-id-1 div.sk-item::before, #sk-container-id-1 div.sk-parallel-item::before {content: \"\";position: absolute;border-left: 1px solid gray;box-sizing: border-box;top: 0;bottom: 0;left: 50%;z-index: -1;}#sk-container-id-1 div.sk-parallel-item {display: flex;flex-direction: column;z-index: 1;position: relative;background-color: white;}#sk-container-id-1 div.sk-parallel-item:first-child::after {align-self: flex-end;width: 50%;}#sk-container-id-1 div.sk-parallel-item:last-child::after {align-self: flex-start;width: 50%;}#sk-container-id-1 div.sk-parallel-item:only-child::after {width: 0;}#sk-container-id-1 div.sk-dashed-wrapped {border: 1px dashed gray;margin: 0 0.4em 0.5em 0.4em;box-sizing: border-box;padding-bottom: 0.4em;background-color: white;}#sk-container-id-1 div.sk-label label {font-family: monospace;font-weight: bold;display: inline-block;line-height: 1.2em;}#sk-container-id-1 div.sk-label-container {text-align: center;}#sk-container-id-1 div.sk-container {/* jupyter's `normalize.less` sets `[hidden] { display: none; }` but bootstrap.min.css set `[hidden] { display: none !important; }` so we also need the `!important` here to be able to override the default hidden behavior on the sphinx rendered scikit-learn.org. See: https://github.com/scikit-learn/scikit-learn/issues/21755 */display: inline-block !important;position: relative;}#sk-container-id-1 div.sk-text-repr-fallback {display: none;}</style><div id=\"sk-container-id-1\" class=\"sk-top-container\"><div class=\"sk-text-repr-fallback\"><pre>Pipeline(steps=[(&#x27;preprocessor&#x27;,\n",
       "                 Pipeline(steps=[(&#x27;feature_engineering&#x27;,\n",
       "                                  FunctionTransformer(func=&lt;function create_features at 0x7ff5fe3b6290&gt;)),\n",
       "                                 (&#x27;filling_missing&#x27;,\n",
       "                                  DataFrameColumnTransformer(remainder=&#x27;passthrough&#x27;,\n",
       "                                                             transformers=[(&#x27;age_imputer&#x27;,\n",
       "                                                                            SimpleImputer(),\n",
       "                                                                            [&#x27;Age&#x27;]),\n",
       "                                                                           (&#x27;mode_imputer&#x27;,\n",
       "                                                                            SimpleImputer(strategy=&#x27;most_frequent&#x27;),\n",
       "                                                                            [&#x27;HomePlanet&#x27;,\n",
       "                                                                             &#x27;CryoSleep&#x27;,\n",
       "                                                                             &#x27;Des...\n",
       "                                  DataFrameColumnTransformer(remainder=&#x27;passthrough&#x27;,\n",
       "                                                             transformers=[(&#x27;encoder&#x27;,\n",
       "                                                                            OneHotEncoder(drop=&#x27;if_binary&#x27;,\n",
       "                                                                                          handle_unknown=&#x27;ignore&#x27;,\n",
       "                                                                                          sparse=False),\n",
       "                                                                            [&#x27;HomePlanet&#x27;,\n",
       "                                                                             &#x27;CryoSleep&#x27;,\n",
       "                                                                             &#x27;Destination&#x27;,\n",
       "                                                                             &#x27;VIP&#x27;,\n",
       "                                                                             &#x27;CabinDeck&#x27;,\n",
       "                                                                             &#x27;CabinSide&#x27;,\n",
       "                                                                             &#x27;AgeCategory&#x27;])])),\n",
       "                                 (&#x27;feature_selection&#x27;,\n",
       "                                  FunctionTransformer(func=&lt;function remove_columns at 0x7ff5c7bca290&gt;))])),\n",
       "                (&#x27;svc&#x27;, SVC(random_state=42))])</pre><b>In a Jupyter environment, please rerun this cell to show the HTML representation or trust the notebook. <br />On GitHub, the HTML representation is unable to render, please try loading this page with nbviewer.org.</b></div><div class=\"sk-container\" hidden><div class=\"sk-item sk-dashed-wrapped\"><div class=\"sk-label-container\"><div class=\"sk-label sk-toggleable\"><input class=\"sk-toggleable__control sk-hidden--visually\" id=\"sk-estimator-id-1\" type=\"checkbox\" ><label for=\"sk-estimator-id-1\" class=\"sk-toggleable__label sk-toggleable__label-arrow\">Pipeline</label><div class=\"sk-toggleable__content\"><pre>Pipeline(steps=[(&#x27;preprocessor&#x27;,\n",
       "                 Pipeline(steps=[(&#x27;feature_engineering&#x27;,\n",
       "                                  FunctionTransformer(func=&lt;function create_features at 0x7ff5fe3b6290&gt;)),\n",
       "                                 (&#x27;filling_missing&#x27;,\n",
       "                                  DataFrameColumnTransformer(remainder=&#x27;passthrough&#x27;,\n",
       "                                                             transformers=[(&#x27;age_imputer&#x27;,\n",
       "                                                                            SimpleImputer(),\n",
       "                                                                            [&#x27;Age&#x27;]),\n",
       "                                                                           (&#x27;mode_imputer&#x27;,\n",
       "                                                                            SimpleImputer(strategy=&#x27;most_frequent&#x27;),\n",
       "                                                                            [&#x27;HomePlanet&#x27;,\n",
       "                                                                             &#x27;CryoSleep&#x27;,\n",
       "                                                                             &#x27;Des...\n",
       "                                  DataFrameColumnTransformer(remainder=&#x27;passthrough&#x27;,\n",
       "                                                             transformers=[(&#x27;encoder&#x27;,\n",
       "                                                                            OneHotEncoder(drop=&#x27;if_binary&#x27;,\n",
       "                                                                                          handle_unknown=&#x27;ignore&#x27;,\n",
       "                                                                                          sparse=False),\n",
       "                                                                            [&#x27;HomePlanet&#x27;,\n",
       "                                                                             &#x27;CryoSleep&#x27;,\n",
       "                                                                             &#x27;Destination&#x27;,\n",
       "                                                                             &#x27;VIP&#x27;,\n",
       "                                                                             &#x27;CabinDeck&#x27;,\n",
       "                                                                             &#x27;CabinSide&#x27;,\n",
       "                                                                             &#x27;AgeCategory&#x27;])])),\n",
       "                                 (&#x27;feature_selection&#x27;,\n",
       "                                  FunctionTransformer(func=&lt;function remove_columns at 0x7ff5c7bca290&gt;))])),\n",
       "                (&#x27;svc&#x27;, SVC(random_state=42))])</pre></div></div></div><div class=\"sk-serial\"><div class=\"sk-item\"><div class=\"sk-label-container\"><div class=\"sk-label sk-toggleable\"><input class=\"sk-toggleable__control sk-hidden--visually\" id=\"sk-estimator-id-2\" type=\"checkbox\" ><label for=\"sk-estimator-id-2\" class=\"sk-toggleable__label sk-toggleable__label-arrow\">preprocessor: Pipeline</label><div class=\"sk-toggleable__content\"><pre>Pipeline(steps=[(&#x27;feature_engineering&#x27;,\n",
       "                 FunctionTransformer(func=&lt;function create_features at 0x7ff5fe3b6290&gt;)),\n",
       "                (&#x27;filling_missing&#x27;,\n",
       "                 DataFrameColumnTransformer(remainder=&#x27;passthrough&#x27;,\n",
       "                                            transformers=[(&#x27;age_imputer&#x27;,\n",
       "                                                           SimpleImputer(),\n",
       "                                                           [&#x27;Age&#x27;]),\n",
       "                                                          (&#x27;mode_imputer&#x27;,\n",
       "                                                           SimpleImputer(strategy=&#x27;most_frequent&#x27;),\n",
       "                                                           [&#x27;HomePlanet&#x27;,\n",
       "                                                            &#x27;CryoSleep&#x27;,\n",
       "                                                            &#x27;Destination&#x27;,\n",
       "                                                            &#x27;VIP&#x27;, &#x27;CabinDeck&#x27;,\n",
       "                                                            &#x27;Cab...\n",
       "                                                            &#x27;TotalExpenses&#x27;])])),\n",
       "                (&#x27;onehot_encoding&#x27;,\n",
       "                 DataFrameColumnTransformer(remainder=&#x27;passthrough&#x27;,\n",
       "                                            transformers=[(&#x27;encoder&#x27;,\n",
       "                                                           OneHotEncoder(drop=&#x27;if_binary&#x27;,\n",
       "                                                                         handle_unknown=&#x27;ignore&#x27;,\n",
       "                                                                         sparse=False),\n",
       "                                                           [&#x27;HomePlanet&#x27;,\n",
       "                                                            &#x27;CryoSleep&#x27;,\n",
       "                                                            &#x27;Destination&#x27;,\n",
       "                                                            &#x27;VIP&#x27;, &#x27;CabinDeck&#x27;,\n",
       "                                                            &#x27;CabinSide&#x27;,\n",
       "                                                            &#x27;AgeCategory&#x27;])])),\n",
       "                (&#x27;feature_selection&#x27;,\n",
       "                 FunctionTransformer(func=&lt;function remove_columns at 0x7ff5c7bca290&gt;))])</pre></div></div></div><div class=\"sk-serial\"><div class=\"sk-item\"><div class=\"sk-estimator sk-toggleable\"><input class=\"sk-toggleable__control sk-hidden--visually\" id=\"sk-estimator-id-3\" type=\"checkbox\" ><label for=\"sk-estimator-id-3\" class=\"sk-toggleable__label sk-toggleable__label-arrow\">FunctionTransformer</label><div class=\"sk-toggleable__content\"><pre>FunctionTransformer(func=&lt;function create_features at 0x7ff5fe3b6290&gt;)</pre></div></div></div><div class=\"sk-item sk-dashed-wrapped\"><div class=\"sk-label-container\"><div class=\"sk-label sk-toggleable\"><input class=\"sk-toggleable__control sk-hidden--visually\" id=\"sk-estimator-id-4\" type=\"checkbox\" ><label for=\"sk-estimator-id-4\" class=\"sk-toggleable__label sk-toggleable__label-arrow\">filling_missing: DataFrameColumnTransformer</label><div class=\"sk-toggleable__content\"><pre>DataFrameColumnTransformer(remainder=&#x27;passthrough&#x27;,\n",
       "                           transformers=[(&#x27;age_imputer&#x27;, SimpleImputer(),\n",
       "                                          [&#x27;Age&#x27;]),\n",
       "                                         (&#x27;mode_imputer&#x27;,\n",
       "                                          SimpleImputer(strategy=&#x27;most_frequent&#x27;),\n",
       "                                          [&#x27;HomePlanet&#x27;, &#x27;CryoSleep&#x27;,\n",
       "                                           &#x27;Destination&#x27;, &#x27;VIP&#x27;, &#x27;CabinDeck&#x27;,\n",
       "                                           &#x27;CabinSide&#x27;, &#x27;AgeCategory&#x27;]),\n",
       "                                         (&#x27;zero_imputer&#x27;,\n",
       "                                          SimpleImputer(fill_value=0.0,\n",
       "                                                        strategy=&#x27;constant&#x27;),\n",
       "                                          [&#x27;RoomService&#x27;, &#x27;FoodCourt&#x27;,\n",
       "                                           &#x27;ShoppingMall&#x27;, &#x27;Spa&#x27;, &#x27;VRDeck&#x27;]),\n",
       "                                         (&#x27;cabin_number_imputer&#x27;,\n",
       "                                          MaxMoreImputer(), [&#x27;CabinNumber&#x27;])])</pre></div></div></div><div class=\"sk-parallel\"><div class=\"sk-parallel-item\"><div class=\"sk-item\"><div class=\"sk-label-container\"><div class=\"sk-label sk-toggleable\"><input class=\"sk-toggleable__control sk-hidden--visually\" id=\"sk-estimator-id-5\" type=\"checkbox\" ><label for=\"sk-estimator-id-5\" class=\"sk-toggleable__label sk-toggleable__label-arrow\">age_imputer</label><div class=\"sk-toggleable__content\"><pre>[&#x27;Age&#x27;]</pre></div></div></div><div class=\"sk-serial\"><div class=\"sk-item\"><div class=\"sk-estimator sk-toggleable\"><input class=\"sk-toggleable__control sk-hidden--visually\" id=\"sk-estimator-id-6\" type=\"checkbox\" ><label for=\"sk-estimator-id-6\" class=\"sk-toggleable__label sk-toggleable__label-arrow\">SimpleImputer</label><div class=\"sk-toggleable__content\"><pre>SimpleImputer()</pre></div></div></div></div></div></div><div class=\"sk-parallel-item\"><div class=\"sk-item\"><div class=\"sk-label-container\"><div class=\"sk-label sk-toggleable\"><input class=\"sk-toggleable__control sk-hidden--visually\" id=\"sk-estimator-id-7\" type=\"checkbox\" ><label for=\"sk-estimator-id-7\" class=\"sk-toggleable__label sk-toggleable__label-arrow\">mode_imputer</label><div class=\"sk-toggleable__content\"><pre>[&#x27;HomePlanet&#x27;, &#x27;CryoSleep&#x27;, &#x27;Destination&#x27;, &#x27;VIP&#x27;, &#x27;CabinDeck&#x27;, &#x27;CabinSide&#x27;, &#x27;AgeCategory&#x27;]</pre></div></div></div><div class=\"sk-serial\"><div class=\"sk-item\"><div class=\"sk-estimator sk-toggleable\"><input class=\"sk-toggleable__control sk-hidden--visually\" id=\"sk-estimator-id-8\" type=\"checkbox\" ><label for=\"sk-estimator-id-8\" class=\"sk-toggleable__label sk-toggleable__label-arrow\">SimpleImputer</label><div class=\"sk-toggleable__content\"><pre>SimpleImputer(strategy=&#x27;most_frequent&#x27;)</pre></div></div></div></div></div></div><div class=\"sk-parallel-item\"><div class=\"sk-item\"><div class=\"sk-label-container\"><div class=\"sk-label sk-toggleable\"><input class=\"sk-toggleable__control sk-hidden--visually\" id=\"sk-estimator-id-9\" type=\"checkbox\" ><label for=\"sk-estimator-id-9\" class=\"sk-toggleable__label sk-toggleable__label-arrow\">zero_imputer</label><div class=\"sk-toggleable__content\"><pre>[&#x27;RoomService&#x27;, &#x27;FoodCourt&#x27;, &#x27;ShoppingMall&#x27;, &#x27;Spa&#x27;, &#x27;VRDeck&#x27;]</pre></div></div></div><div class=\"sk-serial\"><div class=\"sk-item\"><div class=\"sk-estimator sk-toggleable\"><input class=\"sk-toggleable__control sk-hidden--visually\" id=\"sk-estimator-id-10\" type=\"checkbox\" ><label for=\"sk-estimator-id-10\" class=\"sk-toggleable__label sk-toggleable__label-arrow\">SimpleImputer</label><div class=\"sk-toggleable__content\"><pre>SimpleImputer(fill_value=0.0, strategy=&#x27;constant&#x27;)</pre></div></div></div></div></div></div><div class=\"sk-parallel-item\"><div class=\"sk-item\"><div class=\"sk-label-container\"><div class=\"sk-label sk-toggleable\"><input class=\"sk-toggleable__control sk-hidden--visually\" id=\"sk-estimator-id-11\" type=\"checkbox\" ><label for=\"sk-estimator-id-11\" class=\"sk-toggleable__label sk-toggleable__label-arrow\">cabin_number_imputer</label><div class=\"sk-toggleable__content\"><pre>[&#x27;CabinNumber&#x27;]</pre></div></div></div><div class=\"sk-serial\"><div class=\"sk-item\"><div class=\"sk-estimator sk-toggleable\"><input class=\"sk-toggleable__control sk-hidden--visually\" id=\"sk-estimator-id-12\" type=\"checkbox\" ><label for=\"sk-estimator-id-12\" class=\"sk-toggleable__label sk-toggleable__label-arrow\">MaxMoreImputer</label><div class=\"sk-toggleable__content\"><pre>MaxMoreImputer()</pre></div></div></div></div></div></div><div class=\"sk-parallel-item\"><div class=\"sk-item\"><div class=\"sk-label-container\"><div class=\"sk-label sk-toggleable\"><input class=\"sk-toggleable__control sk-hidden--visually\" id=\"sk-estimator-id-13\" type=\"checkbox\" ><label for=\"sk-estimator-id-13\" class=\"sk-toggleable__label sk-toggleable__label-arrow\">remainder</label><div class=\"sk-toggleable__content\"><pre>[&#x27;PassengerId&#x27;, &#x27;Cabin&#x27;, &#x27;Name&#x27;, &#x27;PassengerGroup&#x27;, &#x27;PassengerNumber&#x27;, &#x27;TotalExpenses&#x27;]</pre></div></div></div><div class=\"sk-serial\"><div class=\"sk-item\"><div class=\"sk-estimator sk-toggleable\"><input class=\"sk-toggleable__control sk-hidden--visually\" id=\"sk-estimator-id-14\" type=\"checkbox\" ><label for=\"sk-estimator-id-14\" class=\"sk-toggleable__label sk-toggleable__label-arrow\">passthrough</label><div class=\"sk-toggleable__content\"><pre>passthrough</pre></div></div></div></div></div></div></div></div><div class=\"sk-item sk-dashed-wrapped\"><div class=\"sk-label-container\"><div class=\"sk-label sk-toggleable\"><input class=\"sk-toggleable__control sk-hidden--visually\" id=\"sk-estimator-id-15\" type=\"checkbox\" ><label for=\"sk-estimator-id-15\" class=\"sk-toggleable__label sk-toggleable__label-arrow\">normalization: DataFrameColumnTransformer</label><div class=\"sk-toggleable__content\"><pre>DataFrameColumnTransformer(remainder=&#x27;passthrough&#x27;,\n",
       "                           transformers=[(&#x27;scaler&#x27;, StandardScaler(),\n",
       "                                          [&#x27;Age&#x27;, &#x27;RoomService&#x27;, &#x27;FoodCourt&#x27;,\n",
       "                                           &#x27;ShoppingMall&#x27;, &#x27;Spa&#x27;, &#x27;VRDeck&#x27;,\n",
       "                                           &#x27;PassengerGroup&#x27;, &#x27;PassengerNumber&#x27;,\n",
       "                                           &#x27;CabinNumber&#x27;, &#x27;TotalExpenses&#x27;])])</pre></div></div></div><div class=\"sk-parallel\"><div class=\"sk-parallel-item\"><div class=\"sk-item\"><div class=\"sk-label-container\"><div class=\"sk-label sk-toggleable\"><input class=\"sk-toggleable__control sk-hidden--visually\" id=\"sk-estimator-id-16\" type=\"checkbox\" ><label for=\"sk-estimator-id-16\" class=\"sk-toggleable__label sk-toggleable__label-arrow\">scaler</label><div class=\"sk-toggleable__content\"><pre>[&#x27;Age&#x27;, &#x27;RoomService&#x27;, &#x27;FoodCourt&#x27;, &#x27;ShoppingMall&#x27;, &#x27;Spa&#x27;, &#x27;VRDeck&#x27;, &#x27;PassengerGroup&#x27;, &#x27;PassengerNumber&#x27;, &#x27;CabinNumber&#x27;, &#x27;TotalExpenses&#x27;]</pre></div></div></div><div class=\"sk-serial\"><div class=\"sk-item\"><div class=\"sk-estimator sk-toggleable\"><input class=\"sk-toggleable__control sk-hidden--visually\" id=\"sk-estimator-id-17\" type=\"checkbox\" ><label for=\"sk-estimator-id-17\" class=\"sk-toggleable__label sk-toggleable__label-arrow\">StandardScaler</label><div class=\"sk-toggleable__content\"><pre>StandardScaler()</pre></div></div></div></div></div></div><div class=\"sk-parallel-item\"><div class=\"sk-item\"><div class=\"sk-label-container\"><div class=\"sk-label sk-toggleable\"><input class=\"sk-toggleable__control sk-hidden--visually\" id=\"sk-estimator-id-18\" type=\"checkbox\" ><label for=\"sk-estimator-id-18\" class=\"sk-toggleable__label sk-toggleable__label-arrow\">remainder</label><div class=\"sk-toggleable__content\"><pre>[&#x27;PassengerId&#x27;, &#x27;HomePlanet&#x27;, &#x27;CryoSleep&#x27;, &#x27;Cabin&#x27;, &#x27;Destination&#x27;, &#x27;VIP&#x27;, &#x27;Name&#x27;, &#x27;CabinDeck&#x27;, &#x27;CabinSide&#x27;, &#x27;AgeCategory&#x27;]</pre></div></div></div><div class=\"sk-serial\"><div class=\"sk-item\"><div class=\"sk-estimator sk-toggleable\"><input class=\"sk-toggleable__control sk-hidden--visually\" id=\"sk-estimator-id-19\" type=\"checkbox\" ><label for=\"sk-estimator-id-19\" class=\"sk-toggleable__label sk-toggleable__label-arrow\">passthrough</label><div class=\"sk-toggleable__content\"><pre>passthrough</pre></div></div></div></div></div></div></div></div><div class=\"sk-item sk-dashed-wrapped\"><div class=\"sk-label-container\"><div class=\"sk-label sk-toggleable\"><input class=\"sk-toggleable__control sk-hidden--visually\" id=\"sk-estimator-id-20\" type=\"checkbox\" ><label for=\"sk-estimator-id-20\" class=\"sk-toggleable__label sk-toggleable__label-arrow\">onehot_encoding: DataFrameColumnTransformer</label><div class=\"sk-toggleable__content\"><pre>DataFrameColumnTransformer(remainder=&#x27;passthrough&#x27;,\n",
       "                           transformers=[(&#x27;encoder&#x27;,\n",
       "                                          OneHotEncoder(drop=&#x27;if_binary&#x27;,\n",
       "                                                        handle_unknown=&#x27;ignore&#x27;,\n",
       "                                                        sparse=False),\n",
       "                                          [&#x27;HomePlanet&#x27;, &#x27;CryoSleep&#x27;,\n",
       "                                           &#x27;Destination&#x27;, &#x27;VIP&#x27;, &#x27;CabinDeck&#x27;,\n",
       "                                           &#x27;CabinSide&#x27;, &#x27;AgeCategory&#x27;])])</pre></div></div></div><div class=\"sk-parallel\"><div class=\"sk-parallel-item\"><div class=\"sk-item\"><div class=\"sk-label-container\"><div class=\"sk-label sk-toggleable\"><input class=\"sk-toggleable__control sk-hidden--visually\" id=\"sk-estimator-id-21\" type=\"checkbox\" ><label for=\"sk-estimator-id-21\" class=\"sk-toggleable__label sk-toggleable__label-arrow\">encoder</label><div class=\"sk-toggleable__content\"><pre>[&#x27;HomePlanet&#x27;, &#x27;CryoSleep&#x27;, &#x27;Destination&#x27;, &#x27;VIP&#x27;, &#x27;CabinDeck&#x27;, &#x27;CabinSide&#x27;, &#x27;AgeCategory&#x27;]</pre></div></div></div><div class=\"sk-serial\"><div class=\"sk-item\"><div class=\"sk-estimator sk-toggleable\"><input class=\"sk-toggleable__control sk-hidden--visually\" id=\"sk-estimator-id-22\" type=\"checkbox\" ><label for=\"sk-estimator-id-22\" class=\"sk-toggleable__label sk-toggleable__label-arrow\">OneHotEncoder</label><div class=\"sk-toggleable__content\"><pre>OneHotEncoder(drop=&#x27;if_binary&#x27;, handle_unknown=&#x27;ignore&#x27;, sparse=False)</pre></div></div></div></div></div></div><div class=\"sk-parallel-item\"><div class=\"sk-item\"><div class=\"sk-label-container\"><div class=\"sk-label sk-toggleable\"><input class=\"sk-toggleable__control sk-hidden--visually\" id=\"sk-estimator-id-23\" type=\"checkbox\" ><label for=\"sk-estimator-id-23\" class=\"sk-toggleable__label sk-toggleable__label-arrow\">remainder</label><div class=\"sk-toggleable__content\"><pre>[&#x27;PassengerId&#x27;, &#x27;Cabin&#x27;, &#x27;Age&#x27;, &#x27;RoomService&#x27;, &#x27;FoodCourt&#x27;, &#x27;ShoppingMall&#x27;, &#x27;Spa&#x27;, &#x27;VRDeck&#x27;, &#x27;Name&#x27;, &#x27;PassengerGroup&#x27;, &#x27;PassengerNumber&#x27;, &#x27;CabinNumber&#x27;, &#x27;TotalExpenses&#x27;]</pre></div></div></div><div class=\"sk-serial\"><div class=\"sk-item\"><div class=\"sk-estimator sk-toggleable\"><input class=\"sk-toggleable__control sk-hidden--visually\" id=\"sk-estimator-id-24\" type=\"checkbox\" ><label for=\"sk-estimator-id-24\" class=\"sk-toggleable__label sk-toggleable__label-arrow\">passthrough</label><div class=\"sk-toggleable__content\"><pre>passthrough</pre></div></div></div></div></div></div></div></div><div class=\"sk-item\"><div class=\"sk-estimator sk-toggleable\"><input class=\"sk-toggleable__control sk-hidden--visually\" id=\"sk-estimator-id-25\" type=\"checkbox\" ><label for=\"sk-estimator-id-25\" class=\"sk-toggleable__label sk-toggleable__label-arrow\">FunctionTransformer</label><div class=\"sk-toggleable__content\"><pre>FunctionTransformer(func=&lt;function remove_columns at 0x7ff5c7bca290&gt;)</pre></div></div></div></div></div><div class=\"sk-item\"><div class=\"sk-estimator sk-toggleable\"><input class=\"sk-toggleable__control sk-hidden--visually\" id=\"sk-estimator-id-26\" type=\"checkbox\" ><label for=\"sk-estimator-id-26\" class=\"sk-toggleable__label sk-toggleable__label-arrow\">SVC</label><div class=\"sk-toggleable__content\"><pre>SVC(random_state=42)</pre></div></div></div></div></div></div></div>"
      ],
      "text/plain": [
       "Pipeline(steps=[('preprocessor',\n",
       "                 Pipeline(steps=[('feature_engineering',\n",
       "                                  FunctionTransformer(func=<function create_features at 0x7ff5fe3b6290>)),\n",
       "                                 ('filling_missing',\n",
       "                                  DataFrameColumnTransformer(remainder='passthrough',\n",
       "                                                             transformers=[('age_imputer',\n",
       "                                                                            SimpleImputer(),\n",
       "                                                                            ['Age']),\n",
       "                                                                           ('mode_imputer',\n",
       "                                                                            SimpleImputer(strategy='most_frequent'),\n",
       "                                                                            ['HomePlanet',\n",
       "                                                                             'CryoSleep',\n",
       "                                                                             'Des...\n",
       "                                  DataFrameColumnTransformer(remainder='passthrough',\n",
       "                                                             transformers=[('encoder',\n",
       "                                                                            OneHotEncoder(drop='if_binary',\n",
       "                                                                                          handle_unknown='ignore',\n",
       "                                                                                          sparse=False),\n",
       "                                                                            ['HomePlanet',\n",
       "                                                                             'CryoSleep',\n",
       "                                                                             'Destination',\n",
       "                                                                             'VIP',\n",
       "                                                                             'CabinDeck',\n",
       "                                                                             'CabinSide',\n",
       "                                                                             'AgeCategory'])])),\n",
       "                                 ('feature_selection',\n",
       "                                  FunctionTransformer(func=<function remove_columns at 0x7ff5c7bca290>))])),\n",
       "                ('svc', SVC(random_state=42))])"
      ]
     },
     "execution_count": 22,
     "metadata": {},
     "output_type": "execute_result"
    }
   ],
   "source": [
    "svc_model = Pipeline(steps=[\n",
    "    ('preprocessor', preprocessor), \n",
    "    ('svc', SVC(random_state=RANDOM_STATE))\n",
    "])\n",
    "\n",
    "svc_model.fit(x_train, y_train)"
   ]
  },
  {
   "cell_type": "code",
   "execution_count": 23,
   "metadata": {},
   "outputs": [
    {
     "data": {
      "text/html": [
       "<div>\n",
       "<style scoped>\n",
       "    .dataframe tbody tr th:only-of-type {\n",
       "        vertical-align: middle;\n",
       "    }\n",
       "\n",
       "    .dataframe tbody tr th {\n",
       "        vertical-align: top;\n",
       "    }\n",
       "\n",
       "    .dataframe thead th {\n",
       "        text-align: right;\n",
       "    }\n",
       "</style>\n",
       "<table border=\"1\" class=\"dataframe\">\n",
       "  <thead>\n",
       "    <tr style=\"text-align: right;\">\n",
       "      <th></th>\n",
       "      <th>baseline_knn</th>\n",
       "      <th>svc</th>\n",
       "    </tr>\n",
       "  </thead>\n",
       "  <tbody>\n",
       "    <tr>\n",
       "      <th>train_accuracy</th>\n",
       "      <td>0.849727</td>\n",
       "      <td>0.822261</td>\n",
       "    </tr>\n",
       "    <tr>\n",
       "      <th>test_accuracy</th>\n",
       "      <td>0.757907</td>\n",
       "      <td>0.791259</td>\n",
       "    </tr>\n",
       "    <tr>\n",
       "      <th>train_precision</th>\n",
       "      <td>0.858604</td>\n",
       "      <td>0.816201</td>\n",
       "    </tr>\n",
       "    <tr>\n",
       "      <th>test_precision</th>\n",
       "      <td>0.756453</td>\n",
       "      <td>0.780196</td>\n",
       "    </tr>\n",
       "    <tr>\n",
       "      <th>train_recall</th>\n",
       "      <td>0.839714</td>\n",
       "      <td>0.834857</td>\n",
       "    </tr>\n",
       "    <tr>\n",
       "      <th>test_recall</th>\n",
       "      <td>0.767654</td>\n",
       "      <td>0.816629</td>\n",
       "    </tr>\n",
       "    <tr>\n",
       "      <th>train_f1</th>\n",
       "      <td>0.849054</td>\n",
       "      <td>0.825424</td>\n",
       "    </tr>\n",
       "    <tr>\n",
       "      <th>test_f1</th>\n",
       "      <td>0.762012</td>\n",
       "      <td>0.797997</td>\n",
       "    </tr>\n",
       "    <tr>\n",
       "      <th>train_roc_auc</th>\n",
       "      <td>0.849793</td>\n",
       "      <td>0.822177</td>\n",
       "    </tr>\n",
       "    <tr>\n",
       "      <th>test_roc_auc</th>\n",
       "      <td>0.757811</td>\n",
       "      <td>0.791009</td>\n",
       "    </tr>\n",
       "  </tbody>\n",
       "</table>\n",
       "</div>"
      ],
      "text/plain": [
       "                 baseline_knn       svc\n",
       "train_accuracy       0.849727  0.822261\n",
       "test_accuracy        0.757907  0.791259\n",
       "train_precision      0.858604  0.816201\n",
       "test_precision       0.756453  0.780196\n",
       "train_recall         0.839714  0.834857\n",
       "test_recall          0.767654  0.816629\n",
       "train_f1             0.849054  0.825424\n",
       "test_f1              0.762012  0.797997\n",
       "train_roc_auc        0.849793  0.822177\n",
       "test_roc_auc         0.757811  0.791009"
      ]
     },
     "execution_count": 23,
     "metadata": {},
     "output_type": "execute_result"
    }
   ],
   "source": [
    "metrics['svc'] = get_metrics(svc_model, x_train, x_valid, y_train, y_valid)\n",
    "metrics"
   ]
  },
  {
   "cell_type": "markdown",
   "metadata": {},
   "source": [
    "С помощью GridSearch оптимизируем гиперпараметры модели SVC. А затем обучим модель с оптимизированными параметрами."
   ]
  },
  {
   "cell_type": "code",
   "execution_count": null,
   "metadata": {},
   "outputs": [],
   "source": [
    "grid_parameters = {\n",
    "    'svc__C': [0.001, 1.0, 100], \n",
    "    'svc__kernel': ['linear', 'poly', 'rbf', 'sigmoid'], \n",
    "}\n",
    "\n",
    "grid_search = GridSearchCV(svc_model, param_grid=grid_parameters, cv=N_FOLDS)\n",
    "grid_search.fit(x, y)"
   ]
  },
  {
   "cell_type": "code",
   "execution_count": 40,
   "metadata": {},
   "outputs": [
    {
     "data": {
      "text/plain": [
       "{'svc__C': 100, 'svc__kernel': 'linear'}"
      ]
     },
     "execution_count": 40,
     "metadata": {},
     "output_type": "execute_result"
    }
   ],
   "source": [
    "print('Лучшие параметры для SVC:')\n",
    "print(grid_search.best_params_)"
   ]
  },
  {
   "cell_type": "code",
   "execution_count": 24,
   "metadata": {},
   "outputs": [
    {
     "data": {
      "text/html": [
       "<style>#sk-container-id-2 {color: black;background-color: white;}#sk-container-id-2 pre{padding: 0;}#sk-container-id-2 div.sk-toggleable {background-color: white;}#sk-container-id-2 label.sk-toggleable__label {cursor: pointer;display: block;width: 100%;margin-bottom: 0;padding: 0.3em;box-sizing: border-box;text-align: center;}#sk-container-id-2 label.sk-toggleable__label-arrow:before {content: \"▸\";float: left;margin-right: 0.25em;color: #696969;}#sk-container-id-2 label.sk-toggleable__label-arrow:hover:before {color: black;}#sk-container-id-2 div.sk-estimator:hover label.sk-toggleable__label-arrow:before {color: black;}#sk-container-id-2 div.sk-toggleable__content {max-height: 0;max-width: 0;overflow: hidden;text-align: left;background-color: #f0f8ff;}#sk-container-id-2 div.sk-toggleable__content pre {margin: 0.2em;color: black;border-radius: 0.25em;background-color: #f0f8ff;}#sk-container-id-2 input.sk-toggleable__control:checked~div.sk-toggleable__content {max-height: 200px;max-width: 100%;overflow: auto;}#sk-container-id-2 input.sk-toggleable__control:checked~label.sk-toggleable__label-arrow:before {content: \"▾\";}#sk-container-id-2 div.sk-estimator input.sk-toggleable__control:checked~label.sk-toggleable__label {background-color: #d4ebff;}#sk-container-id-2 div.sk-label input.sk-toggleable__control:checked~label.sk-toggleable__label {background-color: #d4ebff;}#sk-container-id-2 input.sk-hidden--visually {border: 0;clip: rect(1px 1px 1px 1px);clip: rect(1px, 1px, 1px, 1px);height: 1px;margin: -1px;overflow: hidden;padding: 0;position: absolute;width: 1px;}#sk-container-id-2 div.sk-estimator {font-family: monospace;background-color: #f0f8ff;border: 1px dotted black;border-radius: 0.25em;box-sizing: border-box;margin-bottom: 0.5em;}#sk-container-id-2 div.sk-estimator:hover {background-color: #d4ebff;}#sk-container-id-2 div.sk-parallel-item::after {content: \"\";width: 100%;border-bottom: 1px solid gray;flex-grow: 1;}#sk-container-id-2 div.sk-label:hover label.sk-toggleable__label {background-color: #d4ebff;}#sk-container-id-2 div.sk-serial::before {content: \"\";position: absolute;border-left: 1px solid gray;box-sizing: border-box;top: 0;bottom: 0;left: 50%;z-index: 0;}#sk-container-id-2 div.sk-serial {display: flex;flex-direction: column;align-items: center;background-color: white;padding-right: 0.2em;padding-left: 0.2em;position: relative;}#sk-container-id-2 div.sk-item {position: relative;z-index: 1;}#sk-container-id-2 div.sk-parallel {display: flex;align-items: stretch;justify-content: center;background-color: white;position: relative;}#sk-container-id-2 div.sk-item::before, #sk-container-id-2 div.sk-parallel-item::before {content: \"\";position: absolute;border-left: 1px solid gray;box-sizing: border-box;top: 0;bottom: 0;left: 50%;z-index: -1;}#sk-container-id-2 div.sk-parallel-item {display: flex;flex-direction: column;z-index: 1;position: relative;background-color: white;}#sk-container-id-2 div.sk-parallel-item:first-child::after {align-self: flex-end;width: 50%;}#sk-container-id-2 div.sk-parallel-item:last-child::after {align-self: flex-start;width: 50%;}#sk-container-id-2 div.sk-parallel-item:only-child::after {width: 0;}#sk-container-id-2 div.sk-dashed-wrapped {border: 1px dashed gray;margin: 0 0.4em 0.5em 0.4em;box-sizing: border-box;padding-bottom: 0.4em;background-color: white;}#sk-container-id-2 div.sk-label label {font-family: monospace;font-weight: bold;display: inline-block;line-height: 1.2em;}#sk-container-id-2 div.sk-label-container {text-align: center;}#sk-container-id-2 div.sk-container {/* jupyter's `normalize.less` sets `[hidden] { display: none; }` but bootstrap.min.css set `[hidden] { display: none !important; }` so we also need the `!important` here to be able to override the default hidden behavior on the sphinx rendered scikit-learn.org. See: https://github.com/scikit-learn/scikit-learn/issues/21755 */display: inline-block !important;position: relative;}#sk-container-id-2 div.sk-text-repr-fallback {display: none;}</style><div id=\"sk-container-id-2\" class=\"sk-top-container\"><div class=\"sk-text-repr-fallback\"><pre>Pipeline(steps=[(&#x27;preprocessor&#x27;,\n",
       "                 Pipeline(steps=[(&#x27;feature_engineering&#x27;,\n",
       "                                  FunctionTransformer(func=&lt;function create_features at 0x7ff5fe3b6290&gt;)),\n",
       "                                 (&#x27;filling_missing&#x27;,\n",
       "                                  DataFrameColumnTransformer(remainder=&#x27;passthrough&#x27;,\n",
       "                                                             transformers=[(&#x27;age_imputer&#x27;,\n",
       "                                                                            SimpleImputer(),\n",
       "                                                                            [&#x27;Age&#x27;]),\n",
       "                                                                           (&#x27;mode_imputer&#x27;,\n",
       "                                                                            SimpleImputer(strategy=&#x27;most_frequent&#x27;),\n",
       "                                                                            [&#x27;HomePlanet&#x27;,\n",
       "                                                                             &#x27;CryoSleep&#x27;,\n",
       "                                                                             &#x27;Des...\n",
       "                                  DataFrameColumnTransformer(remainder=&#x27;passthrough&#x27;,\n",
       "                                                             transformers=[(&#x27;encoder&#x27;,\n",
       "                                                                            OneHotEncoder(drop=&#x27;if_binary&#x27;,\n",
       "                                                                                          handle_unknown=&#x27;ignore&#x27;,\n",
       "                                                                                          sparse=False),\n",
       "                                                                            [&#x27;HomePlanet&#x27;,\n",
       "                                                                             &#x27;CryoSleep&#x27;,\n",
       "                                                                             &#x27;Destination&#x27;,\n",
       "                                                                             &#x27;VIP&#x27;,\n",
       "                                                                             &#x27;CabinDeck&#x27;,\n",
       "                                                                             &#x27;CabinSide&#x27;,\n",
       "                                                                             &#x27;AgeCategory&#x27;])])),\n",
       "                                 (&#x27;feature_selection&#x27;,\n",
       "                                  FunctionTransformer(func=&lt;function remove_columns at 0x7ff5c7bca290&gt;))])),\n",
       "                (&#x27;svc&#x27;, SVC(C=100, kernel=&#x27;linear&#x27;, random_state=42))])</pre><b>In a Jupyter environment, please rerun this cell to show the HTML representation or trust the notebook. <br />On GitHub, the HTML representation is unable to render, please try loading this page with nbviewer.org.</b></div><div class=\"sk-container\" hidden><div class=\"sk-item sk-dashed-wrapped\"><div class=\"sk-label-container\"><div class=\"sk-label sk-toggleable\"><input class=\"sk-toggleable__control sk-hidden--visually\" id=\"sk-estimator-id-27\" type=\"checkbox\" ><label for=\"sk-estimator-id-27\" class=\"sk-toggleable__label sk-toggleable__label-arrow\">Pipeline</label><div class=\"sk-toggleable__content\"><pre>Pipeline(steps=[(&#x27;preprocessor&#x27;,\n",
       "                 Pipeline(steps=[(&#x27;feature_engineering&#x27;,\n",
       "                                  FunctionTransformer(func=&lt;function create_features at 0x7ff5fe3b6290&gt;)),\n",
       "                                 (&#x27;filling_missing&#x27;,\n",
       "                                  DataFrameColumnTransformer(remainder=&#x27;passthrough&#x27;,\n",
       "                                                             transformers=[(&#x27;age_imputer&#x27;,\n",
       "                                                                            SimpleImputer(),\n",
       "                                                                            [&#x27;Age&#x27;]),\n",
       "                                                                           (&#x27;mode_imputer&#x27;,\n",
       "                                                                            SimpleImputer(strategy=&#x27;most_frequent&#x27;),\n",
       "                                                                            [&#x27;HomePlanet&#x27;,\n",
       "                                                                             &#x27;CryoSleep&#x27;,\n",
       "                                                                             &#x27;Des...\n",
       "                                  DataFrameColumnTransformer(remainder=&#x27;passthrough&#x27;,\n",
       "                                                             transformers=[(&#x27;encoder&#x27;,\n",
       "                                                                            OneHotEncoder(drop=&#x27;if_binary&#x27;,\n",
       "                                                                                          handle_unknown=&#x27;ignore&#x27;,\n",
       "                                                                                          sparse=False),\n",
       "                                                                            [&#x27;HomePlanet&#x27;,\n",
       "                                                                             &#x27;CryoSleep&#x27;,\n",
       "                                                                             &#x27;Destination&#x27;,\n",
       "                                                                             &#x27;VIP&#x27;,\n",
       "                                                                             &#x27;CabinDeck&#x27;,\n",
       "                                                                             &#x27;CabinSide&#x27;,\n",
       "                                                                             &#x27;AgeCategory&#x27;])])),\n",
       "                                 (&#x27;feature_selection&#x27;,\n",
       "                                  FunctionTransformer(func=&lt;function remove_columns at 0x7ff5c7bca290&gt;))])),\n",
       "                (&#x27;svc&#x27;, SVC(C=100, kernel=&#x27;linear&#x27;, random_state=42))])</pre></div></div></div><div class=\"sk-serial\"><div class=\"sk-item\"><div class=\"sk-label-container\"><div class=\"sk-label sk-toggleable\"><input class=\"sk-toggleable__control sk-hidden--visually\" id=\"sk-estimator-id-28\" type=\"checkbox\" ><label for=\"sk-estimator-id-28\" class=\"sk-toggleable__label sk-toggleable__label-arrow\">preprocessor: Pipeline</label><div class=\"sk-toggleable__content\"><pre>Pipeline(steps=[(&#x27;feature_engineering&#x27;,\n",
       "                 FunctionTransformer(func=&lt;function create_features at 0x7ff5fe3b6290&gt;)),\n",
       "                (&#x27;filling_missing&#x27;,\n",
       "                 DataFrameColumnTransformer(remainder=&#x27;passthrough&#x27;,\n",
       "                                            transformers=[(&#x27;age_imputer&#x27;,\n",
       "                                                           SimpleImputer(),\n",
       "                                                           [&#x27;Age&#x27;]),\n",
       "                                                          (&#x27;mode_imputer&#x27;,\n",
       "                                                           SimpleImputer(strategy=&#x27;most_frequent&#x27;),\n",
       "                                                           [&#x27;HomePlanet&#x27;,\n",
       "                                                            &#x27;CryoSleep&#x27;,\n",
       "                                                            &#x27;Destination&#x27;,\n",
       "                                                            &#x27;VIP&#x27;, &#x27;CabinDeck&#x27;,\n",
       "                                                            &#x27;Cab...\n",
       "                                                            &#x27;TotalExpenses&#x27;])])),\n",
       "                (&#x27;onehot_encoding&#x27;,\n",
       "                 DataFrameColumnTransformer(remainder=&#x27;passthrough&#x27;,\n",
       "                                            transformers=[(&#x27;encoder&#x27;,\n",
       "                                                           OneHotEncoder(drop=&#x27;if_binary&#x27;,\n",
       "                                                                         handle_unknown=&#x27;ignore&#x27;,\n",
       "                                                                         sparse=False),\n",
       "                                                           [&#x27;HomePlanet&#x27;,\n",
       "                                                            &#x27;CryoSleep&#x27;,\n",
       "                                                            &#x27;Destination&#x27;,\n",
       "                                                            &#x27;VIP&#x27;, &#x27;CabinDeck&#x27;,\n",
       "                                                            &#x27;CabinSide&#x27;,\n",
       "                                                            &#x27;AgeCategory&#x27;])])),\n",
       "                (&#x27;feature_selection&#x27;,\n",
       "                 FunctionTransformer(func=&lt;function remove_columns at 0x7ff5c7bca290&gt;))])</pre></div></div></div><div class=\"sk-serial\"><div class=\"sk-item\"><div class=\"sk-estimator sk-toggleable\"><input class=\"sk-toggleable__control sk-hidden--visually\" id=\"sk-estimator-id-29\" type=\"checkbox\" ><label for=\"sk-estimator-id-29\" class=\"sk-toggleable__label sk-toggleable__label-arrow\">FunctionTransformer</label><div class=\"sk-toggleable__content\"><pre>FunctionTransformer(func=&lt;function create_features at 0x7ff5fe3b6290&gt;)</pre></div></div></div><div class=\"sk-item sk-dashed-wrapped\"><div class=\"sk-label-container\"><div class=\"sk-label sk-toggleable\"><input class=\"sk-toggleable__control sk-hidden--visually\" id=\"sk-estimator-id-30\" type=\"checkbox\" ><label for=\"sk-estimator-id-30\" class=\"sk-toggleable__label sk-toggleable__label-arrow\">filling_missing: DataFrameColumnTransformer</label><div class=\"sk-toggleable__content\"><pre>DataFrameColumnTransformer(remainder=&#x27;passthrough&#x27;,\n",
       "                           transformers=[(&#x27;age_imputer&#x27;, SimpleImputer(),\n",
       "                                          [&#x27;Age&#x27;]),\n",
       "                                         (&#x27;mode_imputer&#x27;,\n",
       "                                          SimpleImputer(strategy=&#x27;most_frequent&#x27;),\n",
       "                                          [&#x27;HomePlanet&#x27;, &#x27;CryoSleep&#x27;,\n",
       "                                           &#x27;Destination&#x27;, &#x27;VIP&#x27;, &#x27;CabinDeck&#x27;,\n",
       "                                           &#x27;CabinSide&#x27;, &#x27;AgeCategory&#x27;]),\n",
       "                                         (&#x27;zero_imputer&#x27;,\n",
       "                                          SimpleImputer(fill_value=0.0,\n",
       "                                                        strategy=&#x27;constant&#x27;),\n",
       "                                          [&#x27;RoomService&#x27;, &#x27;FoodCourt&#x27;,\n",
       "                                           &#x27;ShoppingMall&#x27;, &#x27;Spa&#x27;, &#x27;VRDeck&#x27;]),\n",
       "                                         (&#x27;cabin_number_imputer&#x27;,\n",
       "                                          MaxMoreImputer(), [&#x27;CabinNumber&#x27;])])</pre></div></div></div><div class=\"sk-parallel\"><div class=\"sk-parallel-item\"><div class=\"sk-item\"><div class=\"sk-label-container\"><div class=\"sk-label sk-toggleable\"><input class=\"sk-toggleable__control sk-hidden--visually\" id=\"sk-estimator-id-31\" type=\"checkbox\" ><label for=\"sk-estimator-id-31\" class=\"sk-toggleable__label sk-toggleable__label-arrow\">age_imputer</label><div class=\"sk-toggleable__content\"><pre>[&#x27;Age&#x27;]</pre></div></div></div><div class=\"sk-serial\"><div class=\"sk-item\"><div class=\"sk-estimator sk-toggleable\"><input class=\"sk-toggleable__control sk-hidden--visually\" id=\"sk-estimator-id-32\" type=\"checkbox\" ><label for=\"sk-estimator-id-32\" class=\"sk-toggleable__label sk-toggleable__label-arrow\">SimpleImputer</label><div class=\"sk-toggleable__content\"><pre>SimpleImputer()</pre></div></div></div></div></div></div><div class=\"sk-parallel-item\"><div class=\"sk-item\"><div class=\"sk-label-container\"><div class=\"sk-label sk-toggleable\"><input class=\"sk-toggleable__control sk-hidden--visually\" id=\"sk-estimator-id-33\" type=\"checkbox\" ><label for=\"sk-estimator-id-33\" class=\"sk-toggleable__label sk-toggleable__label-arrow\">mode_imputer</label><div class=\"sk-toggleable__content\"><pre>[&#x27;HomePlanet&#x27;, &#x27;CryoSleep&#x27;, &#x27;Destination&#x27;, &#x27;VIP&#x27;, &#x27;CabinDeck&#x27;, &#x27;CabinSide&#x27;, &#x27;AgeCategory&#x27;]</pre></div></div></div><div class=\"sk-serial\"><div class=\"sk-item\"><div class=\"sk-estimator sk-toggleable\"><input class=\"sk-toggleable__control sk-hidden--visually\" id=\"sk-estimator-id-34\" type=\"checkbox\" ><label for=\"sk-estimator-id-34\" class=\"sk-toggleable__label sk-toggleable__label-arrow\">SimpleImputer</label><div class=\"sk-toggleable__content\"><pre>SimpleImputer(strategy=&#x27;most_frequent&#x27;)</pre></div></div></div></div></div></div><div class=\"sk-parallel-item\"><div class=\"sk-item\"><div class=\"sk-label-container\"><div class=\"sk-label sk-toggleable\"><input class=\"sk-toggleable__control sk-hidden--visually\" id=\"sk-estimator-id-35\" type=\"checkbox\" ><label for=\"sk-estimator-id-35\" class=\"sk-toggleable__label sk-toggleable__label-arrow\">zero_imputer</label><div class=\"sk-toggleable__content\"><pre>[&#x27;RoomService&#x27;, &#x27;FoodCourt&#x27;, &#x27;ShoppingMall&#x27;, &#x27;Spa&#x27;, &#x27;VRDeck&#x27;]</pre></div></div></div><div class=\"sk-serial\"><div class=\"sk-item\"><div class=\"sk-estimator sk-toggleable\"><input class=\"sk-toggleable__control sk-hidden--visually\" id=\"sk-estimator-id-36\" type=\"checkbox\" ><label for=\"sk-estimator-id-36\" class=\"sk-toggleable__label sk-toggleable__label-arrow\">SimpleImputer</label><div class=\"sk-toggleable__content\"><pre>SimpleImputer(fill_value=0.0, strategy=&#x27;constant&#x27;)</pre></div></div></div></div></div></div><div class=\"sk-parallel-item\"><div class=\"sk-item\"><div class=\"sk-label-container\"><div class=\"sk-label sk-toggleable\"><input class=\"sk-toggleable__control sk-hidden--visually\" id=\"sk-estimator-id-37\" type=\"checkbox\" ><label for=\"sk-estimator-id-37\" class=\"sk-toggleable__label sk-toggleable__label-arrow\">cabin_number_imputer</label><div class=\"sk-toggleable__content\"><pre>[&#x27;CabinNumber&#x27;]</pre></div></div></div><div class=\"sk-serial\"><div class=\"sk-item\"><div class=\"sk-estimator sk-toggleable\"><input class=\"sk-toggleable__control sk-hidden--visually\" id=\"sk-estimator-id-38\" type=\"checkbox\" ><label for=\"sk-estimator-id-38\" class=\"sk-toggleable__label sk-toggleable__label-arrow\">MaxMoreImputer</label><div class=\"sk-toggleable__content\"><pre>MaxMoreImputer()</pre></div></div></div></div></div></div><div class=\"sk-parallel-item\"><div class=\"sk-item\"><div class=\"sk-label-container\"><div class=\"sk-label sk-toggleable\"><input class=\"sk-toggleable__control sk-hidden--visually\" id=\"sk-estimator-id-39\" type=\"checkbox\" ><label for=\"sk-estimator-id-39\" class=\"sk-toggleable__label sk-toggleable__label-arrow\">remainder</label><div class=\"sk-toggleable__content\"><pre>[&#x27;PassengerId&#x27;, &#x27;Cabin&#x27;, &#x27;Name&#x27;, &#x27;PassengerGroup&#x27;, &#x27;PassengerNumber&#x27;, &#x27;TotalExpenses&#x27;]</pre></div></div></div><div class=\"sk-serial\"><div class=\"sk-item\"><div class=\"sk-estimator sk-toggleable\"><input class=\"sk-toggleable__control sk-hidden--visually\" id=\"sk-estimator-id-40\" type=\"checkbox\" ><label for=\"sk-estimator-id-40\" class=\"sk-toggleable__label sk-toggleable__label-arrow\">passthrough</label><div class=\"sk-toggleable__content\"><pre>passthrough</pre></div></div></div></div></div></div></div></div><div class=\"sk-item sk-dashed-wrapped\"><div class=\"sk-label-container\"><div class=\"sk-label sk-toggleable\"><input class=\"sk-toggleable__control sk-hidden--visually\" id=\"sk-estimator-id-41\" type=\"checkbox\" ><label for=\"sk-estimator-id-41\" class=\"sk-toggleable__label sk-toggleable__label-arrow\">normalization: DataFrameColumnTransformer</label><div class=\"sk-toggleable__content\"><pre>DataFrameColumnTransformer(remainder=&#x27;passthrough&#x27;,\n",
       "                           transformers=[(&#x27;scaler&#x27;, StandardScaler(),\n",
       "                                          [&#x27;Age&#x27;, &#x27;RoomService&#x27;, &#x27;FoodCourt&#x27;,\n",
       "                                           &#x27;ShoppingMall&#x27;, &#x27;Spa&#x27;, &#x27;VRDeck&#x27;,\n",
       "                                           &#x27;PassengerGroup&#x27;, &#x27;PassengerNumber&#x27;,\n",
       "                                           &#x27;CabinNumber&#x27;, &#x27;TotalExpenses&#x27;])])</pre></div></div></div><div class=\"sk-parallel\"><div class=\"sk-parallel-item\"><div class=\"sk-item\"><div class=\"sk-label-container\"><div class=\"sk-label sk-toggleable\"><input class=\"sk-toggleable__control sk-hidden--visually\" id=\"sk-estimator-id-42\" type=\"checkbox\" ><label for=\"sk-estimator-id-42\" class=\"sk-toggleable__label sk-toggleable__label-arrow\">scaler</label><div class=\"sk-toggleable__content\"><pre>[&#x27;Age&#x27;, &#x27;RoomService&#x27;, &#x27;FoodCourt&#x27;, &#x27;ShoppingMall&#x27;, &#x27;Spa&#x27;, &#x27;VRDeck&#x27;, &#x27;PassengerGroup&#x27;, &#x27;PassengerNumber&#x27;, &#x27;CabinNumber&#x27;, &#x27;TotalExpenses&#x27;]</pre></div></div></div><div class=\"sk-serial\"><div class=\"sk-item\"><div class=\"sk-estimator sk-toggleable\"><input class=\"sk-toggleable__control sk-hidden--visually\" id=\"sk-estimator-id-43\" type=\"checkbox\" ><label for=\"sk-estimator-id-43\" class=\"sk-toggleable__label sk-toggleable__label-arrow\">StandardScaler</label><div class=\"sk-toggleable__content\"><pre>StandardScaler()</pre></div></div></div></div></div></div><div class=\"sk-parallel-item\"><div class=\"sk-item\"><div class=\"sk-label-container\"><div class=\"sk-label sk-toggleable\"><input class=\"sk-toggleable__control sk-hidden--visually\" id=\"sk-estimator-id-44\" type=\"checkbox\" ><label for=\"sk-estimator-id-44\" class=\"sk-toggleable__label sk-toggleable__label-arrow\">remainder</label><div class=\"sk-toggleable__content\"><pre>[&#x27;PassengerId&#x27;, &#x27;HomePlanet&#x27;, &#x27;CryoSleep&#x27;, &#x27;Cabin&#x27;, &#x27;Destination&#x27;, &#x27;VIP&#x27;, &#x27;Name&#x27;, &#x27;CabinDeck&#x27;, &#x27;CabinSide&#x27;, &#x27;AgeCategory&#x27;]</pre></div></div></div><div class=\"sk-serial\"><div class=\"sk-item\"><div class=\"sk-estimator sk-toggleable\"><input class=\"sk-toggleable__control sk-hidden--visually\" id=\"sk-estimator-id-45\" type=\"checkbox\" ><label for=\"sk-estimator-id-45\" class=\"sk-toggleable__label sk-toggleable__label-arrow\">passthrough</label><div class=\"sk-toggleable__content\"><pre>passthrough</pre></div></div></div></div></div></div></div></div><div class=\"sk-item sk-dashed-wrapped\"><div class=\"sk-label-container\"><div class=\"sk-label sk-toggleable\"><input class=\"sk-toggleable__control sk-hidden--visually\" id=\"sk-estimator-id-46\" type=\"checkbox\" ><label for=\"sk-estimator-id-46\" class=\"sk-toggleable__label sk-toggleable__label-arrow\">onehot_encoding: DataFrameColumnTransformer</label><div class=\"sk-toggleable__content\"><pre>DataFrameColumnTransformer(remainder=&#x27;passthrough&#x27;,\n",
       "                           transformers=[(&#x27;encoder&#x27;,\n",
       "                                          OneHotEncoder(drop=&#x27;if_binary&#x27;,\n",
       "                                                        handle_unknown=&#x27;ignore&#x27;,\n",
       "                                                        sparse=False),\n",
       "                                          [&#x27;HomePlanet&#x27;, &#x27;CryoSleep&#x27;,\n",
       "                                           &#x27;Destination&#x27;, &#x27;VIP&#x27;, &#x27;CabinDeck&#x27;,\n",
       "                                           &#x27;CabinSide&#x27;, &#x27;AgeCategory&#x27;])])</pre></div></div></div><div class=\"sk-parallel\"><div class=\"sk-parallel-item\"><div class=\"sk-item\"><div class=\"sk-label-container\"><div class=\"sk-label sk-toggleable\"><input class=\"sk-toggleable__control sk-hidden--visually\" id=\"sk-estimator-id-47\" type=\"checkbox\" ><label for=\"sk-estimator-id-47\" class=\"sk-toggleable__label sk-toggleable__label-arrow\">encoder</label><div class=\"sk-toggleable__content\"><pre>[&#x27;HomePlanet&#x27;, &#x27;CryoSleep&#x27;, &#x27;Destination&#x27;, &#x27;VIP&#x27;, &#x27;CabinDeck&#x27;, &#x27;CabinSide&#x27;, &#x27;AgeCategory&#x27;]</pre></div></div></div><div class=\"sk-serial\"><div class=\"sk-item\"><div class=\"sk-estimator sk-toggleable\"><input class=\"sk-toggleable__control sk-hidden--visually\" id=\"sk-estimator-id-48\" type=\"checkbox\" ><label for=\"sk-estimator-id-48\" class=\"sk-toggleable__label sk-toggleable__label-arrow\">OneHotEncoder</label><div class=\"sk-toggleable__content\"><pre>OneHotEncoder(drop=&#x27;if_binary&#x27;, handle_unknown=&#x27;ignore&#x27;, sparse=False)</pre></div></div></div></div></div></div><div class=\"sk-parallel-item\"><div class=\"sk-item\"><div class=\"sk-label-container\"><div class=\"sk-label sk-toggleable\"><input class=\"sk-toggleable__control sk-hidden--visually\" id=\"sk-estimator-id-49\" type=\"checkbox\" ><label for=\"sk-estimator-id-49\" class=\"sk-toggleable__label sk-toggleable__label-arrow\">remainder</label><div class=\"sk-toggleable__content\"><pre>[&#x27;PassengerId&#x27;, &#x27;Cabin&#x27;, &#x27;Age&#x27;, &#x27;RoomService&#x27;, &#x27;FoodCourt&#x27;, &#x27;ShoppingMall&#x27;, &#x27;Spa&#x27;, &#x27;VRDeck&#x27;, &#x27;Name&#x27;, &#x27;PassengerGroup&#x27;, &#x27;PassengerNumber&#x27;, &#x27;CabinNumber&#x27;, &#x27;TotalExpenses&#x27;]</pre></div></div></div><div class=\"sk-serial\"><div class=\"sk-item\"><div class=\"sk-estimator sk-toggleable\"><input class=\"sk-toggleable__control sk-hidden--visually\" id=\"sk-estimator-id-50\" type=\"checkbox\" ><label for=\"sk-estimator-id-50\" class=\"sk-toggleable__label sk-toggleable__label-arrow\">passthrough</label><div class=\"sk-toggleable__content\"><pre>passthrough</pre></div></div></div></div></div></div></div></div><div class=\"sk-item\"><div class=\"sk-estimator sk-toggleable\"><input class=\"sk-toggleable__control sk-hidden--visually\" id=\"sk-estimator-id-51\" type=\"checkbox\" ><label for=\"sk-estimator-id-51\" class=\"sk-toggleable__label sk-toggleable__label-arrow\">FunctionTransformer</label><div class=\"sk-toggleable__content\"><pre>FunctionTransformer(func=&lt;function remove_columns at 0x7ff5c7bca290&gt;)</pre></div></div></div></div></div><div class=\"sk-item\"><div class=\"sk-estimator sk-toggleable\"><input class=\"sk-toggleable__control sk-hidden--visually\" id=\"sk-estimator-id-52\" type=\"checkbox\" ><label for=\"sk-estimator-id-52\" class=\"sk-toggleable__label sk-toggleable__label-arrow\">SVC</label><div class=\"sk-toggleable__content\"><pre>SVC(C=100, kernel=&#x27;linear&#x27;, random_state=42)</pre></div></div></div></div></div></div></div>"
      ],
      "text/plain": [
       "Pipeline(steps=[('preprocessor',\n",
       "                 Pipeline(steps=[('feature_engineering',\n",
       "                                  FunctionTransformer(func=<function create_features at 0x7ff5fe3b6290>)),\n",
       "                                 ('filling_missing',\n",
       "                                  DataFrameColumnTransformer(remainder='passthrough',\n",
       "                                                             transformers=[('age_imputer',\n",
       "                                                                            SimpleImputer(),\n",
       "                                                                            ['Age']),\n",
       "                                                                           ('mode_imputer',\n",
       "                                                                            SimpleImputer(strategy='most_frequent'),\n",
       "                                                                            ['HomePlanet',\n",
       "                                                                             'CryoSleep',\n",
       "                                                                             'Des...\n",
       "                                  DataFrameColumnTransformer(remainder='passthrough',\n",
       "                                                             transformers=[('encoder',\n",
       "                                                                            OneHotEncoder(drop='if_binary',\n",
       "                                                                                          handle_unknown='ignore',\n",
       "                                                                                          sparse=False),\n",
       "                                                                            ['HomePlanet',\n",
       "                                                                             'CryoSleep',\n",
       "                                                                             'Destination',\n",
       "                                                                             'VIP',\n",
       "                                                                             'CabinDeck',\n",
       "                                                                             'CabinSide',\n",
       "                                                                             'AgeCategory'])])),\n",
       "                                 ('feature_selection',\n",
       "                                  FunctionTransformer(func=<function remove_columns at 0x7ff5c7bca290>))])),\n",
       "                ('svc', SVC(C=100, kernel='linear', random_state=42))])"
      ]
     },
     "execution_count": 24,
     "metadata": {},
     "output_type": "execute_result"
    }
   ],
   "source": [
    "# Создадим и обучим оптимизированную модель\n",
    "\n",
    "svc_model_optimized = Pipeline(steps=[\n",
    "    ('preprocessor', preprocessor), \n",
    "    ('svc', SVC(C=100, kernel='linear', random_state=RANDOM_STATE))\n",
    "])\n",
    "\n",
    "svc_model_optimized.fit(x_train, y_train)"
   ]
  },
  {
   "cell_type": "code",
   "execution_count": 25,
   "metadata": {},
   "outputs": [
    {
     "data": {
      "text/html": [
       "<div>\n",
       "<style scoped>\n",
       "    .dataframe tbody tr th:only-of-type {\n",
       "        vertical-align: middle;\n",
       "    }\n",
       "\n",
       "    .dataframe tbody tr th {\n",
       "        vertical-align: top;\n",
       "    }\n",
       "\n",
       "    .dataframe thead th {\n",
       "        text-align: right;\n",
       "    }\n",
       "</style>\n",
       "<table border=\"1\" class=\"dataframe\">\n",
       "  <thead>\n",
       "    <tr style=\"text-align: right;\">\n",
       "      <th></th>\n",
       "      <th>baseline_knn</th>\n",
       "      <th>svc</th>\n",
       "      <th>svc_optimized</th>\n",
       "    </tr>\n",
       "  </thead>\n",
       "  <tbody>\n",
       "    <tr>\n",
       "      <th>train_accuracy</th>\n",
       "      <td>0.849727</td>\n",
       "      <td>0.822261</td>\n",
       "      <td>0.800259</td>\n",
       "    </tr>\n",
       "    <tr>\n",
       "      <th>test_accuracy</th>\n",
       "      <td>0.757907</td>\n",
       "      <td>0.791259</td>\n",
       "      <td>0.789534</td>\n",
       "    </tr>\n",
       "    <tr>\n",
       "      <th>train_precision</th>\n",
       "      <td>0.858604</td>\n",
       "      <td>0.816201</td>\n",
       "      <td>0.792950</td>\n",
       "    </tr>\n",
       "    <tr>\n",
       "      <th>test_precision</th>\n",
       "      <td>0.756453</td>\n",
       "      <td>0.780196</td>\n",
       "      <td>0.775269</td>\n",
       "    </tr>\n",
       "    <tr>\n",
       "      <th>train_recall</th>\n",
       "      <td>0.839714</td>\n",
       "      <td>0.834857</td>\n",
       "      <td>0.816286</td>\n",
       "    </tr>\n",
       "    <tr>\n",
       "      <th>test_recall</th>\n",
       "      <td>0.767654</td>\n",
       "      <td>0.816629</td>\n",
       "      <td>0.821185</td>\n",
       "    </tr>\n",
       "    <tr>\n",
       "      <th>train_f1</th>\n",
       "      <td>0.849054</td>\n",
       "      <td>0.825424</td>\n",
       "      <td>0.804449</td>\n",
       "    </tr>\n",
       "    <tr>\n",
       "      <th>test_f1</th>\n",
       "      <td>0.762012</td>\n",
       "      <td>0.797997</td>\n",
       "      <td>0.797566</td>\n",
       "    </tr>\n",
       "    <tr>\n",
       "      <th>train_roc_auc</th>\n",
       "      <td>0.849793</td>\n",
       "      <td>0.822177</td>\n",
       "      <td>0.800152</td>\n",
       "    </tr>\n",
       "    <tr>\n",
       "      <th>test_roc_auc</th>\n",
       "      <td>0.757811</td>\n",
       "      <td>0.791009</td>\n",
       "      <td>0.789222</td>\n",
       "    </tr>\n",
       "  </tbody>\n",
       "</table>\n",
       "</div>"
      ],
      "text/plain": [
       "                 baseline_knn       svc  svc_optimized\n",
       "train_accuracy       0.849727  0.822261       0.800259\n",
       "test_accuracy        0.757907  0.791259       0.789534\n",
       "train_precision      0.858604  0.816201       0.792950\n",
       "test_precision       0.756453  0.780196       0.775269\n",
       "train_recall         0.839714  0.834857       0.816286\n",
       "test_recall          0.767654  0.816629       0.821185\n",
       "train_f1             0.849054  0.825424       0.804449\n",
       "test_f1              0.762012  0.797997       0.797566\n",
       "train_roc_auc        0.849793  0.822177       0.800152\n",
       "test_roc_auc         0.757811  0.791009       0.789222"
      ]
     },
     "execution_count": 25,
     "metadata": {},
     "output_type": "execute_result"
    }
   ],
   "source": [
    "# И сохраним её метрики \n",
    "\n",
    "metrics['svc_optimized'] = get_metrics(svc_model_optimized, x_train, x_valid, y_train, y_valid)\n",
    "metrics"
   ]
  },
  {
   "cell_type": "markdown",
   "metadata": {},
   "source": [
    "Далее обучим модель на всем датасете и сформируем предсказания для тестовой выборки."
   ]
  },
  {
   "cell_type": "code",
   "execution_count": 26,
   "metadata": {},
   "outputs": [
    {
     "data": {
      "text/html": [
       "<div>\n",
       "<style scoped>\n",
       "    .dataframe tbody tr th:only-of-type {\n",
       "        vertical-align: middle;\n",
       "    }\n",
       "\n",
       "    .dataframe tbody tr th {\n",
       "        vertical-align: top;\n",
       "    }\n",
       "\n",
       "    .dataframe thead th {\n",
       "        text-align: right;\n",
       "    }\n",
       "</style>\n",
       "<table border=\"1\" class=\"dataframe\">\n",
       "  <thead>\n",
       "    <tr style=\"text-align: right;\">\n",
       "      <th></th>\n",
       "      <th>PassengerId</th>\n",
       "      <th>Transported</th>\n",
       "    </tr>\n",
       "  </thead>\n",
       "  <tbody>\n",
       "    <tr>\n",
       "      <th>0</th>\n",
       "      <td>0013_01</td>\n",
       "      <td>True</td>\n",
       "    </tr>\n",
       "    <tr>\n",
       "      <th>1</th>\n",
       "      <td>0018_01</td>\n",
       "      <td>False</td>\n",
       "    </tr>\n",
       "    <tr>\n",
       "      <th>2</th>\n",
       "      <td>0019_01</td>\n",
       "      <td>True</td>\n",
       "    </tr>\n",
       "    <tr>\n",
       "      <th>3</th>\n",
       "      <td>0021_01</td>\n",
       "      <td>True</td>\n",
       "    </tr>\n",
       "    <tr>\n",
       "      <th>4</th>\n",
       "      <td>0023_01</td>\n",
       "      <td>True</td>\n",
       "    </tr>\n",
       "  </tbody>\n",
       "</table>\n",
       "</div>"
      ],
      "text/plain": [
       "  PassengerId  Transported\n",
       "0     0013_01         True\n",
       "1     0018_01        False\n",
       "2     0019_01         True\n",
       "3     0021_01         True\n",
       "4     0023_01         True"
      ]
     },
     "execution_count": 26,
     "metadata": {},
     "output_type": "execute_result"
    }
   ],
   "source": [
    "svc_model_optimized.fit(x, y)\n",
    "\n",
    "test_predictions = pd.DataFrame({\n",
    "    'PassengerId': test_dataset['PassengerId'],\n",
    "    'Transported': svc_model_optimized.predict(test_dataset),\n",
    "})\n",
    "print('test_predictions.shape', test_predictions.shape)\n",
    "test_predictions.head()"
   ]
  },
  {
   "cell_type": "markdown",
   "metadata": {},
   "source": [
    "## Результаты"
   ]
  },
  {
   "cell_type": "markdown",
   "metadata": {},
   "source": [
    "Сохраним результаты предсказаний на тестовой выборке и отправим их на kaggle."
   ]
  },
  {
   "cell_type": "code",
   "execution_count": 29,
   "metadata": {},
   "outputs": [],
   "source": [
    "filename = 'submission1.csv'\n",
    "test_predictions.to_csv(path_join('data', filename), index=False)"
   ]
  },
  {
   "cell_type": "markdown",
   "metadata": {},
   "source": [
    "Первая попытка дала результат: место в рейтинге - 1146, точность - 0.79401."
   ]
  }
 ],
 "metadata": {
  "kernelspec": {
   "display_name": "Python 3.10.5 ('.venv': venv)",
   "language": "python",
   "name": "python3"
  },
  "language_info": {
   "codemirror_mode": {
    "name": "ipython",
    "version": 3
   },
   "file_extension": ".py",
   "mimetype": "text/x-python",
   "name": "python",
   "nbconvert_exporter": "python",
   "pygments_lexer": "ipython3",
   "version": "3.10.5"
  },
  "orig_nbformat": 4,
  "vscode": {
   "interpreter": {
    "hash": "c8757b2f0b010d3b797d68f835136167869307171a15dee87abf4c957d3b1ad9"
   }
  }
 },
 "nbformat": 4,
 "nbformat_minor": 2
}
